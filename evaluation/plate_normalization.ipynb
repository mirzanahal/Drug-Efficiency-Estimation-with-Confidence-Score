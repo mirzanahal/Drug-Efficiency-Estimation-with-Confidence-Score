{
 "cells": [
  {
   "cell_type": "markdown",
   "metadata": {},
   "source": [
    "# Plate Normalization Notebook"
   ]
  },
  {
   "cell_type": "markdown",
   "metadata": {},
   "source": [
    "## Set Directory"
   ]
  },
  {
   "cell_type": "code",
   "execution_count": 1,
   "metadata": {},
   "outputs": [],
   "source": [
    "import sys\n",
    "import os\n",
    "\n",
    "sys.path.append(os.path.abspath('..'))"
   ]
  },
  {
   "cell_type": "markdown",
   "metadata": {},
   "source": [
    "## Import"
   ]
  },
  {
   "cell_type": "code",
   "execution_count": 2,
   "metadata": {},
   "outputs": [],
   "source": [
    "import pandas as pd\n",
    "import numpy as np\n",
    "import matplotlib.pyplot as plt\n",
    "import scipy.stats as stats\n",
    "import seaborn as sns\n",
    "\n",
    "from ast import literal_eval\n",
    "from scipy.spatial.distance import cosine\n",
    "from scipy.stats.stats import pearsonr   \n",
    "\n",
    "import utils"
   ]
  },
  {
   "cell_type": "markdown",
   "metadata": {},
   "source": [
    "## Configs"
   ]
  },
  {
   "cell_type": "code",
   "execution_count": 3,
   "metadata": {},
   "outputs": [],
   "source": [
    "EXPERIMENT = 'HRCE-1'\n",
    "PLATE_NUMBER = 20\n",
    "PLATE = 'Plate'+str(PLATE_NUMBER)\n",
    "SAVE_NORMALIZED_PROFILE = True"
   ]
  },
  {
   "cell_type": "markdown",
   "metadata": {},
   "source": [
    "## Data Paths"
   ]
  },
  {
   "cell_type": "code",
   "execution_count": 4,
   "metadata": {},
   "outputs": [],
   "source": [
    "DATA_PATH = '../data'\n",
    "\n",
    "PLATE_PATH = os.path.join('..', 'features', EXPERIMENT, PLATE)\n",
    "PROFILE_PATH = os.path.join(PLATE_PATH, 'profile_median_site.csv')\n",
    "WELL_NORMALIZED_PROFILE = os.path.join(PLATE_PATH, 'normalized_well_profile.csv')\n",
    "SITE_NORMALIZED_PROFILE = os.path.join(PLATE_PATH, 'normalized_site_profile.csv')\n",
    "\n",
    "METADATA_PATH = os.path.join(DATA_PATH, 'metadata.csv')\n",
    "EMBEDDING_FEATURES_PATH = os.path.join(DATA_PATH, 'embeddings', 'embeddings.csv')\n",
    "MOA_PATH = os.path.join(DATA_PATH, 'MOA.csv')"
   ]
  },
  {
   "cell_type": "markdown",
   "metadata": {},
   "source": [
    "## Normalization"
   ]
  },
  {
   "cell_type": "markdown",
   "metadata": {},
   "source": [
    "### Load Dataset"
   ]
  },
  {
   "cell_type": "code",
   "execution_count": 5,
   "metadata": {},
   "outputs": [],
   "source": [
    "metadata = pd.read_csv(METADATA_PATH)"
   ]
  },
  {
   "cell_type": "code",
   "execution_count": 6,
   "metadata": {
    "scrolled": true
   },
   "outputs": [
    {
     "data": {
      "text/plain": [
       "(5356, 3915)"
      ]
     },
     "execution_count": 6,
     "metadata": {},
     "output_type": "execute_result"
    }
   ],
   "source": [
    "profile = pd.read_csv(PROFILE_PATH, index_col=0)\n",
    "np.shape(profile)"
   ]
  },
  {
   "cell_type": "markdown",
   "metadata": {},
   "source": [
    "### Prepare Metadata"
   ]
  },
  {
   "cell_type": "code",
   "execution_count": 7,
   "metadata": {},
   "outputs": [],
   "source": [
    "def label(disease_condition):\n",
    "    if disease_condition == 0: return 'negctrl'\n",
    "    else: return 'posctrl'\n",
    "\n",
    "def get_well_metadata(metadata, experiment, plate):\n",
    "    metadata = metadata[(metadata.experiment == experiment) & (metadata.plate == plate)]\n",
    "    metadata = metadata[['treatment', 'treatment_conc' , 'well_id', 'site_id','disease_condition']]\n",
    "    metadata = metadata.fillna(0)\n",
    "    metadata = metadata.assign(\n",
    "        groupid = metadata.groupby(['treatment', 'treatment_conc', 'disease_condition']).ngroup())\n",
    "    metadata['label'] = metadata.apply(lambda row: label(row.disease_condition), axis=1)\n",
    "    return metadata\n",
    "\n",
    "well_metadata = get_well_metadata(metadata, EXPERIMENT, PLATE_NUMBER)"
   ]
  },
  {
   "cell_type": "markdown",
   "metadata": {},
   "source": [
    "## Site Level"
   ]
  },
  {
   "cell_type": "code",
   "execution_count": 8,
   "metadata": {},
   "outputs": [
    {
     "data": {
      "text/plain": [
       "(5356, 3920)"
      ]
     },
     "execution_count": 8,
     "metadata": {},
     "output_type": "execute_result"
    }
   ],
   "source": [
    "site_profile = (\n",
    "    well_metadata.merge(profile, on ='site_id')\n",
    "    .drop_duplicates('site_id')\n",
    "    .set_index('site_id')\n",
    ")\n",
    "np.shape(site_profile)"
   ]
  },
  {
   "cell_type": "code",
   "execution_count": 9,
   "metadata": {},
   "outputs": [
    {
     "name": "stdout",
     "output_type": "stream",
     "text": [
      "Before drop na profile shape: (5356, 3920)\n",
      "After drop na profile shape: (5356, 3905)\n"
     ]
    }
   ],
   "source": [
    "print('Before drop na profile shape: {}'.format(np.shape(site_profile)))\n",
    "site_profile = site_profile.dropna(axis=1)\n",
    "print('After drop na profile shape: {}'.format(np.shape(site_profile)))"
   ]
  },
  {
   "cell_type": "code",
   "execution_count": 10,
   "metadata": {},
   "outputs": [
    {
     "name": "stdout",
     "output_type": "stream",
     "text": [
      "Profile treatment-condition groups information:\n"
     ]
    },
    {
     "data": {
      "text/html": [
       "<div>\n",
       "<style scoped>\n",
       "    .dataframe tbody tr th:only-of-type {\n",
       "        vertical-align: middle;\n",
       "    }\n",
       "\n",
       "    .dataframe tbody tr th {\n",
       "        vertical-align: top;\n",
       "    }\n",
       "\n",
       "    .dataframe thead th {\n",
       "        text-align: right;\n",
       "    }\n",
       "</style>\n",
       "<table border=\"1\" class=\"dataframe\">\n",
       "  <thead>\n",
       "    <tr style=\"text-align: right;\">\n",
       "      <th></th>\n",
       "      <th>count</th>\n",
       "    </tr>\n",
       "    <tr>\n",
       "      <th>group_size</th>\n",
       "      <th></th>\n",
       "    </tr>\n",
       "  </thead>\n",
       "  <tbody>\n",
       "    <tr>\n",
       "      <th>6</th>\n",
       "      <td>1</td>\n",
       "    </tr>\n",
       "    <tr>\n",
       "      <th>7</th>\n",
       "      <td>2</td>\n",
       "    </tr>\n",
       "    <tr>\n",
       "      <th>8</th>\n",
       "      <td>585</td>\n",
       "    </tr>\n",
       "    <tr>\n",
       "      <th>120</th>\n",
       "      <td>1</td>\n",
       "    </tr>\n",
       "    <tr>\n",
       "      <th>160</th>\n",
       "      <td>2</td>\n",
       "    </tr>\n",
       "    <tr>\n",
       "      <th>216</th>\n",
       "      <td>1</td>\n",
       "    </tr>\n",
       "  </tbody>\n",
       "</table>\n",
       "</div>"
      ],
      "text/plain": [
       "            count\n",
       "group_size       \n",
       "6               1\n",
       "7               2\n",
       "8             585\n",
       "120             1\n",
       "160             2\n",
       "216             1"
      ]
     },
     "execution_count": 10,
     "metadata": {},
     "output_type": "execute_result"
    }
   ],
   "source": [
    "def get_group_info(data):\n",
    "    return (\n",
    "        data[['label', 'groupid']]\n",
    "        .groupby('groupid').count()\n",
    "        .reset_index()\n",
    "        .groupby('label')\n",
    "        .count()\n",
    "        .rename_axis('group_size')\n",
    "        .rename({'groupid' : 'count'}, axis=1)\n",
    "    )\n",
    "\n",
    "print('Profile treatment-condition groups information:')\n",
    "get_group_info(site_profile)"
   ]
  },
  {
   "cell_type": "code",
   "execution_count": 11,
   "metadata": {},
   "outputs": [],
   "source": [
    "def split_features_and_labels(dataset, labels_view, features_dropout):\n",
    "    labels = dataset.filter(items=labels_view)\n",
    "    features = dataset.drop(features_dropout, axis=1)\n",
    "    return features, labels\n",
    "\n",
    "profile_site_features, profile_site_labels = split_features_and_labels(\n",
    "    site_profile,\n",
    "    labels_view=['groupid', 'label'],\n",
    "    features_dropout=['groupid', 'label', 'treatment', 'treatment_conc', 'disease_condition', 'well_id']\n",
    ")"
   ]
  },
  {
   "cell_type": "code",
   "execution_count": 12,
   "metadata": {},
   "outputs": [
    {
     "data": {
      "text/plain": [
       "(5356, 3787)"
      ]
     },
     "execution_count": 12,
     "metadata": {},
     "output_type": "execute_result"
    }
   ],
   "source": [
    "def normalize_treatment_condition(features, labels):\n",
    "    mask = labels.label == 'negctrl'\n",
    "    negcontroll_ids = list(labels[mask].index)\n",
    "    poscontroll_ids = list(labels[~mask].index)\n",
    "\n",
    "    negcontroll = features[features.index.isin(negcontroll_ids)]\n",
    "    poscontroll = features[features.index.isin(poscontroll_ids)]\n",
    "    normalized_features = utils.normalize(poscontroll, negcontroll)\n",
    "    return normalized_features\n",
    "\n",
    "normalized_profile_features = normalize_treatment_condition(\n",
    "    profile_site_features, profile_site_labels)\n",
    "\n",
    "np.shape(normalized_profile_features)"
   ]
  },
  {
   "cell_type": "code",
   "execution_count": 13,
   "metadata": {},
   "outputs": [
    {
     "name": "stdout",
     "output_type": "stream",
     "text": [
      "Before drop na profile shape: (5356, 3787)\n",
      "After drop na profile shape: (5356, 3787)\n"
     ]
    }
   ],
   "source": [
    "print('Before drop na profile shape: {}'.format(np.shape(normalized_profile_features)))\n",
    "normalized_profile_features  = normalized_profile_features.dropna(axis=1)\n",
    "print('After drop na profile shape: {}'.format(np.shape(normalized_profile_features)))"
   ]
  },
  {
   "cell_type": "code",
   "execution_count": 14,
   "metadata": {},
   "outputs": [],
   "source": [
    "if SAVE_NORMALIZED_PROFILE:\n",
    "    (\n",
    "        normalized_profile_features\n",
    "        .to_csv(SITE_NORMALIZED_PROFILE)  \n",
    "    )"
   ]
  },
  {
   "cell_type": "markdown",
   "metadata": {},
   "source": [
    "## Well Level"
   ]
  },
  {
   "cell_type": "markdown",
   "metadata": {},
   "source": [
    "### Create Well Profiles"
   ]
  },
  {
   "cell_type": "code",
   "execution_count": 8,
   "metadata": {},
   "outputs": [],
   "source": [
    "def aggregate_site_to_well_level(dataframe):\n",
    "    dataframe.site_id = dataframe.site_id.apply(lambda x: x[:-2])\n",
    "    dataframe = dataframe.rename({'site_id': 'well_id'}, axis=1).groupby('well_id').mean()\n",
    "    return dataframe"
   ]
  },
  {
   "cell_type": "code",
   "execution_count": 9,
   "metadata": {},
   "outputs": [
    {
     "data": {
      "text/plain": [
       "(1340, 3920)"
      ]
     },
     "execution_count": 9,
     "metadata": {},
     "output_type": "execute_result"
    }
   ],
   "source": [
    "aggregate_profile = aggregate_site_to_well_level(profile)\n",
    "\n",
    "well_profile = (\n",
    "    well_metadata.merge(aggregate_profile, how='left', on ='well_id')\n",
    "    .drop_duplicates('well_id')\n",
    "    .set_index('well_id')\n",
    ")\n",
    "np.shape(well_profile)"
   ]
  },
  {
   "cell_type": "markdown",
   "metadata": {},
   "source": [
    "### Damaged Wells"
   ]
  },
  {
   "cell_type": "code",
   "execution_count": 10,
   "metadata": {},
   "outputs": [
    {
     "data": {
      "text/plain": [
       "[]"
      ]
     },
     "execution_count": 10,
     "metadata": {},
     "output_type": "execute_result"
    }
   ],
   "source": [
    "damaged_well_profile = well_profile[well_profile.AreaShape_BoundingBoxArea.isna()].index.tolist()\n",
    "well_profile  = well_profile[~well_profile.AreaShape_BoundingBoxArea.isna()]\n",
    "damaged_well_profile"
   ]
  },
  {
   "cell_type": "markdown",
   "metadata": {},
   "source": [
    "### Drop Null Features"
   ]
  },
  {
   "cell_type": "code",
   "execution_count": 11,
   "metadata": {},
   "outputs": [
    {
     "name": "stdout",
     "output_type": "stream",
     "text": [
      "Before drop na profile shape: (1340, 3920)\n",
      "After drop na profile shape: (1340, 3909)\n"
     ]
    }
   ],
   "source": [
    "print('Before drop na profile shape: {}'.format(np.shape(well_profile)))\n",
    "well_profile = well_profile.dropna(axis=1)\n",
    "print('After drop na profile shape: {}'.format(np.shape(well_profile)))"
   ]
  },
  {
   "cell_type": "markdown",
   "metadata": {},
   "source": [
    "### Treatment Group Information "
   ]
  },
  {
   "cell_type": "code",
   "execution_count": 12,
   "metadata": {},
   "outputs": [
    {
     "name": "stdout",
     "output_type": "stream",
     "text": [
      "Profile treatment-condition groups information:\n"
     ]
    },
    {
     "data": {
      "text/html": [
       "<div>\n",
       "<style scoped>\n",
       "    .dataframe tbody tr th:only-of-type {\n",
       "        vertical-align: middle;\n",
       "    }\n",
       "\n",
       "    .dataframe tbody tr th {\n",
       "        vertical-align: top;\n",
       "    }\n",
       "\n",
       "    .dataframe thead th {\n",
       "        text-align: right;\n",
       "    }\n",
       "</style>\n",
       "<table border=\"1\" class=\"dataframe\">\n",
       "  <thead>\n",
       "    <tr style=\"text-align: right;\">\n",
       "      <th></th>\n",
       "      <th>count</th>\n",
       "    </tr>\n",
       "    <tr>\n",
       "      <th>group_size</th>\n",
       "      <th></th>\n",
       "    </tr>\n",
       "  </thead>\n",
       "  <tbody>\n",
       "    <tr>\n",
       "      <th>2</th>\n",
       "      <td>588</td>\n",
       "    </tr>\n",
       "    <tr>\n",
       "      <th>30</th>\n",
       "      <td>1</td>\n",
       "    </tr>\n",
       "    <tr>\n",
       "      <th>40</th>\n",
       "      <td>2</td>\n",
       "    </tr>\n",
       "    <tr>\n",
       "      <th>54</th>\n",
       "      <td>1</td>\n",
       "    </tr>\n",
       "  </tbody>\n",
       "</table>\n",
       "</div>"
      ],
      "text/plain": [
       "            count\n",
       "group_size       \n",
       "2             588\n",
       "30              1\n",
       "40              2\n",
       "54              1"
      ]
     },
     "execution_count": 12,
     "metadata": {},
     "output_type": "execute_result"
    }
   ],
   "source": [
    "def get_group_info(data):\n",
    "    return (\n",
    "        data[['label', 'groupid']]\n",
    "        .groupby('groupid').count()\n",
    "        .reset_index()\n",
    "        .groupby('label')\n",
    "        .count()\n",
    "        .rename_axis('group_size')\n",
    "        .rename({'groupid' : 'count'}, axis=1)\n",
    "    )\n",
    "\n",
    "print('Profile treatment-condition groups information:')\n",
    "get_group_info(well_profile)"
   ]
  },
  {
   "cell_type": "markdown",
   "metadata": {},
   "source": [
    "### Split Features and Labels"
   ]
  },
  {
   "cell_type": "code",
   "execution_count": 13,
   "metadata": {},
   "outputs": [],
   "source": [
    "def split_features_and_labels(dataset, labels_view, features_dropout):\n",
    "    labels = dataset.filter(items=labels_view)\n",
    "    features = dataset.drop(features_dropout, axis=1)\n",
    "    return features, labels\n",
    "\n",
    "profile_well_features, profile_well_labels = split_features_and_labels(\n",
    "    well_profile,\n",
    "    labels_view=['groupid', 'label'],\n",
    "    features_dropout=['groupid', 'label', 'treatment', 'treatment_conc', 'disease_condition', 'site_id']\n",
    ")"
   ]
  },
  {
   "cell_type": "markdown",
   "metadata": {},
   "source": [
    "### Normalize Profile\n",
    "Noramlization function:\n",
    "$$ \\hat{X} = \\frac{X - \\bar{C}_{-}}{MAD(C_{-})}$$"
   ]
  },
  {
   "cell_type": "code",
   "execution_count": 17,
   "metadata": {},
   "outputs": [
    {
     "data": {
      "text/plain": [
       "(1340, 3791)"
      ]
     },
     "execution_count": 17,
     "metadata": {},
     "output_type": "execute_result"
    }
   ],
   "source": [
    "def normalize_treatment_condition(features, labels):\n",
    "    mask = labels.label == 'negctrl'\n",
    "    negcontroll_ids = list(labels[mask].index)\n",
    "    poscontroll_ids = list(labels[~mask].index)\n",
    "\n",
    "    negcontroll = features[features.index.isin(negcontroll_ids)]\n",
    "    poscontroll = features[features.index.isin(poscontroll_ids)]\n",
    "    normalized_features = utils.normalize(poscontroll, negcontroll)\n",
    "    return normalized_features\n",
    "\n",
    "normalized_profile_features = normalize_treatment_condition(\n",
    "    profile_well_features, profile_well_labels)\n",
    "\n",
    "np.shape(normalized_profile_features)"
   ]
  },
  {
   "cell_type": "markdown",
   "metadata": {},
   "source": [
    "### Save Normalized Feature"
   ]
  },
  {
   "cell_type": "code",
   "execution_count": 22,
   "metadata": {},
   "outputs": [],
   "source": [
    "if SAVE_NORMALIZED_PROFILE:\n",
    "    (\n",
    "        normalized_profile_features\n",
    "        .join(profile_well_labels)\n",
    "        .to_csv(WELL_NORMALIZED_PROFILE)  \n",
    "    )"
   ]
  }
 ],
 "metadata": {
  "interpreter": {
   "hash": "aee8b7b246df8f9039afb4144a1f6fd8d2ca17a180786b69acc140d282b71a49"
  },
  "kernelspec": {
   "display_name": "Python 3 (ipykernel)",
   "language": "python",
   "name": "python3"
  },
  "language_info": {
   "codemirror_mode": {
    "name": "ipython",
    "version": 3
   },
   "file_extension": ".py",
   "mimetype": "text/x-python",
   "name": "python",
   "nbconvert_exporter": "python",
   "pygments_lexer": "ipython3",
   "version": "3.7.9"
  },
  "metadata": {
   "interpreter": {
    "hash": "aee8b7b246df8f9039afb4144a1f6fd8d2ca17a180786b69acc140d282b71a49"
   }
  }
 },
 "nbformat": 4,
 "nbformat_minor": 2
}
