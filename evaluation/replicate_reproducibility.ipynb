{
 "cells": [
  {
   "cell_type": "markdown",
   "id": "adbf61aa",
   "metadata": {},
   "source": [
    "# Profile Evaluation Notebook"
   ]
  },
  {
   "cell_type": "markdown",
   "id": "04341ffd",
   "metadata": {},
   "source": [
    "## Set Directory"
   ]
  },
  {
   "cell_type": "code",
   "execution_count": 1,
   "id": "06835dbd",
   "metadata": {},
   "outputs": [],
   "source": [
    "import sys\n",
    "import os\n",
    "\n",
    "sys.path.append(os.path.abspath('..'))"
   ]
  },
  {
   "cell_type": "markdown",
   "id": "528c5ae1",
   "metadata": {},
   "source": [
    "## Import"
   ]
  },
  {
   "cell_type": "code",
   "execution_count": 2,
   "id": "4f68282d",
   "metadata": {},
   "outputs": [],
   "source": [
    "import random\n",
    "import pandas as pd\n",
    "import numpy as np\n",
    "import matplotlib.pyplot as plt\n",
    "import scipy.stats as stats\n",
    "import seaborn as sns\n",
    "\n",
    "from ast import literal_eval\n",
    "from tqdm import tqdm\n",
    "from scipy.spatial.distance import cosine\n",
    "from scipy.stats.stats import pearsonr   \n",
    "from sklearn.decomposition import PCA\n",
    "\n",
    "import utils"
   ]
  },
  {
   "cell_type": "markdown",
   "id": "dce6a1d0",
   "metadata": {},
   "source": [
    "## Configs"
   ]
  },
  {
   "cell_type": "code",
   "execution_count": 3,
   "id": "d952b867",
   "metadata": {},
   "outputs": [],
   "source": [
    "EXPERIMENTS = ['HRCE-1', 'HRCE-2']\n",
    "PLATE_NUMBERS = {\n",
    "    'HRCE-1': 26,\n",
    "    'HRCE-2': 27\n",
    "}\n",
    "\n",
    "pd.set_option('display.max_columns', 10)\n",
    "sns.set(rc={'figure.figsize':(10,7)})"
   ]
  },
  {
   "cell_type": "markdown",
   "id": "9344305f",
   "metadata": {},
   "source": [
    "## Data Paths"
   ]
  },
  {
   "cell_type": "code",
   "execution_count": 4,
   "id": "8a200911",
   "metadata": {},
   "outputs": [],
   "source": [
    "DATA_PATH = '../data'\n",
    "\n",
    "FEATURES_PATH = os.path.join('..', 'features')\n",
    "\n",
    "METADATA_PATH = os.path.join(DATA_PATH, 'metadata.csv')\n",
    "EMBEDDING_FEATURES_PATH = os.path.join(DATA_PATH, 'embeddings', 'embeddings.csv')\n",
    "MOA_PATH = os.path.join(DATA_PATH, 'MOA.csv')\n",
    "\n",
    "CP_NORMAL_FILE = 'normalized_well_profile.csv'"
   ]
  },
  {
   "cell_type": "markdown",
   "id": "c9b3dac7",
   "metadata": {},
   "source": [
    "## Load Profiles"
   ]
  },
  {
   "cell_type": "code",
   "execution_count": 5,
   "id": "c7f5352c",
   "metadata": {},
   "outputs": [],
   "source": [
    "def load_profiles(experiments, plate_numbers, profile_name, drop_cols=[]):\n",
    "    profiles = []\n",
    "    for experiment in experiments:\n",
    "        for i in tqdm(range(1, plate_numbers[experiment]+1)):\n",
    "            data_path = os.path.join(\n",
    "                FEATURES_PATH, experiment, 'Plate'+str(i), profile_name)\n",
    "            profile = pd.read_csv(data_path)\n",
    "            if 'well_id' not in profile.columns: print(i)\n",
    "            profiles.append(profile)\n",
    "    profiles = (\n",
    "        pd.concat(profiles, axis=0, join='inner').drop(drop_cols, axis=1)\n",
    "    ).dropna(axis=1)\n",
    "    granularity_columns = [x for x in profiles.columns if ('Granularity' in x)]\n",
    "    profiles = profiles.drop(granularity_columns, axis=1)\n",
    "    return profiles"
   ]
  },
  {
   "cell_type": "code",
   "execution_count": 6,
   "id": "be0f8de9",
   "metadata": {},
   "outputs": [
    {
     "name": "stderr",
     "output_type": "stream",
     "text": [
      "100%|███████████████████████████████████████████| 26/26 [00:29<00:00,  1.14s/it]\n",
      "100%|███████████████████████████████████████████| 27/27 [00:20<00:00,  1.33it/s]\n"
     ]
    },
    {
     "data": {
      "text/plain": [
       "(71013, 2329)"
      ]
     },
     "execution_count": 6,
     "metadata": {},
     "output_type": "execute_result"
    }
   ],
   "source": [
    "profiles = load_profiles(EXPERIMENTS, PLATE_NUMBERS, CP_NORMAL_FILE, drop_cols=['label', 'groupid'])\n",
    "profiles.shape"
   ]
  },
  {
   "cell_type": "markdown",
   "id": "2da0a892",
   "metadata": {},
   "source": [
    "## Load Embeddings"
   ]
  },
  {
   "cell_type": "code",
   "execution_count": 7,
   "id": "30eede01",
   "metadata": {
    "scrolled": true
   },
   "outputs": [
    {
     "data": {
      "text/plain": [
       "(76380, 1025)"
      ]
     },
     "execution_count": 7,
     "metadata": {},
     "output_type": "execute_result"
    }
   ],
   "source": [
    "def aggregate_site_to_well_level(dataframe):\n",
    "    dataframe.site_id = dataframe.site_id.apply(lambda x: x[:-2])\n",
    "    dataframe = (\n",
    "        dataframe\n",
    "        .rename({'site_id': 'well_id'}, axis=1)\n",
    "        .groupby('well_id')\n",
    "        .mean()\n",
    "        .reset_index()\n",
    "    )\n",
    "    return dataframe\n",
    "\n",
    "site_embeddings = pd.read_csv(EMBEDDING_FEATURES_PATH)\n",
    "rxrx19a_profiles = aggregate_site_to_well_level(site_embeddings)\n",
    "np.shape(rxrx19a_profiles)"
   ]
  },
  {
   "cell_type": "markdown",
   "id": "5b2e8912",
   "metadata": {},
   "source": [
    "## Load Metadatas"
   ]
  },
  {
   "cell_type": "code",
   "execution_count": 8,
   "id": "531bc517",
   "metadata": {},
   "outputs": [],
   "source": [
    "def load_metadata(metadata_path, experiments):\n",
    "    def label(disease_condition):\n",
    "        if  disease_condition == 0: return 'negctrl'\n",
    "        else: return 'posctrl'\n",
    "    metadata = pd.read_csv(metadata_path)    \n",
    "    metadata = metadata[metadata.experiment.isin(experiments)]\n",
    "    metadata.treatment = metadata.treatment.str.lower()\n",
    "    metadata = metadata[['treatment', 'treatment_conc' , 'well_id', 'disease_condition', 'experiment']]\n",
    "    metadata = metadata.fillna(0)\n",
    "    metadata['label'] = metadata.apply(lambda row: label(row.disease_condition), axis=1)\n",
    "    metadata = metadata.assign(\n",
    "        groupid = metadata.groupby(\n",
    "            ['treatment', 'treatment_conc', 'disease_condition']).ngroup())\n",
    "    metadata = metadata.assign(\n",
    "        treatmentid = metadata.groupby(\n",
    "            ['treatment', 'disease_condition']).ngroup())\n",
    "    return metadata"
   ]
  },
  {
   "cell_type": "code",
   "execution_count": 9,
   "id": "9d1aa1e1",
   "metadata": {},
   "outputs": [],
   "source": [
    "metadata = load_metadata(METADATA_PATH, EXPERIMENTS).set_index('well_id')"
   ]
  },
  {
   "cell_type": "markdown",
   "id": "03ef295c",
   "metadata": {},
   "source": [
    "## Experiment Info"
   ]
  },
  {
   "cell_type": "code",
   "execution_count": 10,
   "id": "505764a9",
   "metadata": {
    "scrolled": true
   },
   "outputs": [
    {
     "name": "stdout",
     "output_type": "stream",
     "text": [
      "Profile treatment-condition groups information:\n"
     ]
    },
    {
     "data": {
      "text/html": [
       "<div>\n",
       "<style scoped>\n",
       "    .dataframe tbody tr th:only-of-type {\n",
       "        vertical-align: middle;\n",
       "    }\n",
       "\n",
       "    .dataframe tbody tr th {\n",
       "        vertical-align: top;\n",
       "    }\n",
       "\n",
       "    .dataframe thead th {\n",
       "        text-align: right;\n",
       "    }\n",
       "</style>\n",
       "<table border=\"1\" class=\"dataframe\">\n",
       "  <thead>\n",
       "    <tr style=\"text-align: right;\">\n",
       "      <th></th>\n",
       "      <th>count</th>\n",
       "    </tr>\n",
       "    <tr>\n",
       "      <th>group_size</th>\n",
       "      <th></th>\n",
       "    </tr>\n",
       "  </thead>\n",
       "  <tbody>\n",
       "    <tr>\n",
       "      <th>6</th>\n",
       "      <td>9452</td>\n",
       "    </tr>\n",
       "    <tr>\n",
       "      <th>11</th>\n",
       "      <td>232</td>\n",
       "    </tr>\n",
       "    <tr>\n",
       "      <th>12</th>\n",
       "      <td>203</td>\n",
       "    </tr>\n",
       "    <tr>\n",
       "      <th>1606</th>\n",
       "      <td>1</td>\n",
       "    </tr>\n",
       "    <tr>\n",
       "      <th>2120</th>\n",
       "      <td>2</td>\n",
       "    </tr>\n",
       "    <tr>\n",
       "      <th>3474</th>\n",
       "      <td>1</td>\n",
       "    </tr>\n",
       "  </tbody>\n",
       "</table>\n",
       "</div>"
      ],
      "text/plain": [
       "            count\n",
       "group_size       \n",
       "6            9452\n",
       "11            232\n",
       "12            203\n",
       "1606            1\n",
       "2120            2\n",
       "3474            1"
      ]
     },
     "execution_count": 10,
     "metadata": {},
     "output_type": "execute_result"
    }
   ],
   "source": [
    "def get_group_info(data):\n",
    "    return (\n",
    "        data.reset_index().drop_duplicates()\n",
    "        [['label', 'groupid']]\n",
    "        .groupby('groupid').count()\n",
    "        .reset_index()\n",
    "        .groupby('label')\n",
    "        .count()\n",
    "        .rename_axis('group_size')\n",
    "        .rename({'groupid' : 'count'}, axis=1)\n",
    "    )\n",
    "\n",
    "print('Profile treatment-condition groups information:')\n",
    "get_group_info(metadata)"
   ]
  },
  {
   "cell_type": "markdown",
   "id": "1a287b43",
   "metadata": {},
   "source": [
    "## Add Metadata to Profiles"
   ]
  },
  {
   "cell_type": "code",
   "execution_count": 11,
   "id": "a27f77b5",
   "metadata": {},
   "outputs": [],
   "source": [
    "def add_metadata_to_profiles(metadata, profiles):\n",
    "    return (\n",
    "        metadata.join(profiles.set_index('well_id'), how='inner')\n",
    "        .drop_duplicates()\n",
    "    )"
   ]
  },
  {
   "cell_type": "code",
   "execution_count": 12,
   "id": "370d6ea0",
   "metadata": {},
   "outputs": [
    {
     "data": {
      "text/plain": [
       "(71013, 2335)"
      ]
     },
     "execution_count": 12,
     "metadata": {},
     "output_type": "execute_result"
    }
   ],
   "source": [
    "profiles_with_meta = add_metadata_to_profiles(metadata, profiles)\n",
    "profiles_with_meta.shape"
   ]
  },
  {
   "cell_type": "code",
   "execution_count": 13,
   "id": "5e21792c",
   "metadata": {
    "scrolled": true
   },
   "outputs": [
    {
     "data": {
      "text/plain": [
       "(71020, 1031)"
      ]
     },
     "execution_count": 13,
     "metadata": {},
     "output_type": "execute_result"
    }
   ],
   "source": [
    "rxrx19a_profiles_with_meta = add_metadata_to_profiles(metadata, rxrx19a_profiles)\n",
    "rxrx19a_profiles_with_meta.shape"
   ]
  },
  {
   "cell_type": "code",
   "execution_count": 14,
   "id": "76407eff",
   "metadata": {
    "scrolled": false
   },
   "outputs": [
    {
     "data": {
      "text/plain": [
       "((61693, 2328), (3474, 2328), (2120, 2328), (2120, 2328), (1606, 2328))"
      ]
     },
     "execution_count": 14,
     "metadata": {},
     "output_type": "execute_result"
    }
   ],
   "source": [
    "ctrls = (\n",
    "    profiles_with_meta[profiles_with_meta.label == 'negctrl']\n",
    "    .drop(metadata.columns, axis=1)\n",
    ")\n",
    "\n",
    "active_sars = (\n",
    "    profiles_with_meta[\n",
    "        (profiles_with_meta.disease_condition == 'Active SARS-CoV-2') &\n",
    "        (profiles_with_meta.treatment == 0)\n",
    "    ]\n",
    ").drop(metadata.columns, axis=1)\n",
    "\n",
    "mocks  = (\n",
    "    profiles_with_meta[profiles_with_meta.disease_condition == 'Mock']\n",
    "    .drop(metadata.columns, axis=1)\n",
    ")\n",
    "\n",
    "UV_inactive_sars = (\n",
    "    profiles_with_meta[\n",
    "    profiles_with_meta.disease_condition == 'UV Inactivated SARS-CoV-2']\n",
    "    .drop(metadata.columns, axis=1)\n",
    ")\n",
    "\n",
    "treatments = (\n",
    "    profiles_with_meta[profiles_with_meta.treatment != 0]\n",
    "    .drop(metadata.columns, axis=1)\n",
    ")\n",
    "\n",
    "treatments.shape, active_sars.shape, mocks.shape, UV_inactive_sars.shape, ctrls.shape"
   ]
  },
  {
   "cell_type": "markdown",
   "id": "68041cc7",
   "metadata": {},
   "source": [
    "## On score algorithm accuracy check (test)"
   ]
  },
  {
   "cell_type": "code",
   "execution_count": 82,
   "id": "cbcc84b6",
   "metadata": {},
   "outputs": [
    {
     "data": {
      "text/plain": [
       "array(['Active SARS-CoV-2', 'UV Inactivated SARS-CoV-2', 0, 'Mock'],\n",
       "      dtype=object)"
      ]
     },
     "execution_count": 82,
     "metadata": {},
     "output_type": "execute_result"
    }
   ],
   "source": [
    "test_rxrx19a.disease_condition.unique()"
   ]
  },
  {
   "cell_type": "code",
   "execution_count": 83,
   "id": "8d095332",
   "metadata": {},
   "outputs": [],
   "source": [
    "test_rxrx19a = rxrx19a_profiles_with_meta[rxrx19a_profiles_with_meta.experiment == 'HRCE-1']\n",
    "\n",
    "\n",
    "zero_center = (\n",
    "    test_rxrx19a[test_rxrx19a.disease_condition.isin(['Mock'])]\n",
    "    .drop(metadata.columns, axis=1)\n",
    ").mean()\n",
    "one_center = (\n",
    "    test_rxrx19a[test_rxrx19a.disease_condition == 'Active SARS-CoV-2']\n",
    "    .drop(metadata.columns, axis=1)\n",
    ").mean()"
   ]
  },
  {
   "cell_type": "code",
   "execution_count": 84,
   "id": "61e4311b",
   "metadata": {},
   "outputs": [],
   "source": [
    "cpe_scores = rxrx19a_profiles.set_index('well_id').apply(\n",
    "    lambda row: \n",
    "    pd.Series({\n",
    "        'on_score':utils.calculate_on_score(row.values, zero_center, one_center), \n",
    "        'off_score':utils.calculate_off_score(row.values, zero_center, one_center)\n",
    "    }), axis=1)"
   ]
  },
  {
   "cell_type": "code",
   "execution_count": 85,
   "id": "fe08af97",
   "metadata": {},
   "outputs": [
    {
     "data": {
      "text/html": [
       "<div>\n",
       "<style scoped>\n",
       "    .dataframe tbody tr th:only-of-type {\n",
       "        vertical-align: middle;\n",
       "    }\n",
       "\n",
       "    .dataframe tbody tr th {\n",
       "        vertical-align: top;\n",
       "    }\n",
       "\n",
       "    .dataframe thead th {\n",
       "        text-align: right;\n",
       "    }\n",
       "</style>\n",
       "<table border=\"1\" class=\"dataframe\">\n",
       "  <thead>\n",
       "    <tr style=\"text-align: right;\">\n",
       "      <th></th>\n",
       "      <th>treatment</th>\n",
       "      <th>treatment_conc</th>\n",
       "      <th>experiment</th>\n",
       "      <th>on_score</th>\n",
       "      <th>off_score</th>\n",
       "    </tr>\n",
       "  </thead>\n",
       "  <tbody>\n",
       "    <tr>\n",
       "      <th>0</th>\n",
       "      <td>0</td>\n",
       "      <td>0.00</td>\n",
       "      <td>HRCE-1</td>\n",
       "      <td>2.974453</td>\n",
       "      <td>5.912907</td>\n",
       "    </tr>\n",
       "    <tr>\n",
       "      <th>1</th>\n",
       "      <td>0</td>\n",
       "      <td>0.00</td>\n",
       "      <td>HRCE-2</td>\n",
       "      <td>4.080826</td>\n",
       "      <td>10.216976</td>\n",
       "    </tr>\n",
       "    <tr>\n",
       "      <th>2</th>\n",
       "      <td>(+)-cedrol</td>\n",
       "      <td>0.01</td>\n",
       "      <td>HRCE-2</td>\n",
       "      <td>6.543715</td>\n",
       "      <td>10.481033</td>\n",
       "    </tr>\n",
       "    <tr>\n",
       "      <th>3</th>\n",
       "      <td>(+)-cedrol</td>\n",
       "      <td>0.03</td>\n",
       "      <td>HRCE-2</td>\n",
       "      <td>6.533395</td>\n",
       "      <td>10.216535</td>\n",
       "    </tr>\n",
       "    <tr>\n",
       "      <th>4</th>\n",
       "      <td>(+)-cedrol</td>\n",
       "      <td>0.10</td>\n",
       "      <td>HRCE-2</td>\n",
       "      <td>5.728633</td>\n",
       "      <td>9.643804</td>\n",
       "    </tr>\n",
       "    <tr>\n",
       "      <th>...</th>\n",
       "      <td>...</td>\n",
       "      <td>...</td>\n",
       "      <td>...</td>\n",
       "      <td>...</td>\n",
       "      <td>...</td>\n",
       "    </tr>\n",
       "    <tr>\n",
       "      <th>10211</th>\n",
       "      <td>β-estradiol 17-acetate</td>\n",
       "      <td>0.03</td>\n",
       "      <td>HRCE-1</td>\n",
       "      <td>7.017563</td>\n",
       "      <td>5.742163</td>\n",
       "    </tr>\n",
       "    <tr>\n",
       "      <th>10212</th>\n",
       "      <td>β-estradiol 17-acetate</td>\n",
       "      <td>0.10</td>\n",
       "      <td>HRCE-1</td>\n",
       "      <td>7.904773</td>\n",
       "      <td>5.837033</td>\n",
       "    </tr>\n",
       "    <tr>\n",
       "      <th>10213</th>\n",
       "      <td>β-estradiol 17-acetate</td>\n",
       "      <td>0.30</td>\n",
       "      <td>HRCE-1</td>\n",
       "      <td>7.385185</td>\n",
       "      <td>5.580851</td>\n",
       "    </tr>\n",
       "    <tr>\n",
       "      <th>10214</th>\n",
       "      <td>β-estradiol 17-acetate</td>\n",
       "      <td>1.00</td>\n",
       "      <td>HRCE-1</td>\n",
       "      <td>7.970960</td>\n",
       "      <td>5.346158</td>\n",
       "    </tr>\n",
       "    <tr>\n",
       "      <th>10215</th>\n",
       "      <td>β-estradiol 17-acetate</td>\n",
       "      <td>3.00</td>\n",
       "      <td>HRCE-1</td>\n",
       "      <td>6.995082</td>\n",
       "      <td>5.506166</td>\n",
       "    </tr>\n",
       "  </tbody>\n",
       "</table>\n",
       "<p>10216 rows × 5 columns</p>\n",
       "</div>"
      ],
      "text/plain": [
       "                    treatment  treatment_conc experiment  on_score  off_score\n",
       "0                           0            0.00     HRCE-1  2.974453   5.912907\n",
       "1                           0            0.00     HRCE-2  4.080826  10.216976\n",
       "2                  (+)-cedrol            0.01     HRCE-2  6.543715  10.481033\n",
       "3                  (+)-cedrol            0.03     HRCE-2  6.533395  10.216535\n",
       "4                  (+)-cedrol            0.10     HRCE-2  5.728633   9.643804\n",
       "...                       ...             ...        ...       ...        ...\n",
       "10211  β-estradiol 17-acetate            0.03     HRCE-1  7.017563   5.742163\n",
       "10212  β-estradiol 17-acetate            0.10     HRCE-1  7.904773   5.837033\n",
       "10213  β-estradiol 17-acetate            0.30     HRCE-1  7.385185   5.580851\n",
       "10214  β-estradiol 17-acetate            1.00     HRCE-1  7.970960   5.346158\n",
       "10215  β-estradiol 17-acetate            3.00     HRCE-1  6.995082   5.506166\n",
       "\n",
       "[10216 rows x 5 columns]"
      ]
     },
     "execution_count": 85,
     "metadata": {},
     "output_type": "execute_result"
    }
   ],
   "source": [
    "scores = (\n",
    "    cpe_scores.join(metadata, how='inner')\n",
    "    .groupby(['treatment', 'treatment_conc', 'experiment']).mean()\n",
    "    .reset_index()\n",
    "    [['treatment', 'treatment_conc', 'experiment', 'on_score', 'off_score']]\n",
    "    .drop_duplicates()\n",
    ")\n",
    "scores"
   ]
  },
  {
   "cell_type": "code",
   "execution_count": 86,
   "id": "b25c5d0c",
   "metadata": {
    "scrolled": false
   },
   "outputs": [],
   "source": [
    "def refine_exp(x):\n",
    "    if x == 'COVID19-launchedp1-HRCE-X-b-20x': return 'HRCE-1'\n",
    "    else: return 'HRCE-2'\n",
    "\n",
    "RXRX19_SCORES_PATH = os.path.join(DATA_PATH, 'supplementary', 'media-2.csv')\n",
    "rxrx19a_scores = pd.read_csv(RXRX19_SCORES_PATH)\n",
    "rxrx19a_scores.treatment = rxrx19a_scores.treatment.str.lower()\n",
    "rxrx19a_scores = rxrx19a_scores[rxrx19a_scores.experiment.isin(\n",
    "    ['COVID19-launchedp2-HRCE-X-b-20x', 'COVID19-launchedp1-HRCE-X-b-20x'])]\n",
    "rxrx19a_scores['experiment'] = rxrx19a_scores.apply(lambda row: refine_exp(row['experiment']), axis=1)\n",
    "rxrx19a_scores = rxrx19a_scores.drop_duplicates()\n",
    "rxrx19a_scores = rxrx19a_scores#[rxrx19a_scores.experiment == 'HRCE-2']"
   ]
  },
  {
   "cell_type": "code",
   "execution_count": 87,
   "id": "4890f44a",
   "metadata": {},
   "outputs": [
    {
     "data": {
      "text/plain": [
       "(10318, 7)"
      ]
     },
     "execution_count": 87,
     "metadata": {},
     "output_type": "execute_result"
    }
   ],
   "source": [
    "joined_scores = (\n",
    "    scores.merge(rxrx19a_scores,\n",
    "        on=['treatment', 'treatment_conc', 'experiment'],\n",
    "        how='inner'\n",
    "    )\n",
    ")\n",
    "joined_scores.shape"
   ]
  },
  {
   "cell_type": "code",
   "execution_count": 88,
   "id": "17f13f5e",
   "metadata": {},
   "outputs": [
    {
     "data": {
      "text/plain": [
       "SpearmanrResult(correlation=0.6583239637176618, pvalue=0.0)"
      ]
     },
     "execution_count": 88,
     "metadata": {},
     "output_type": "execute_result"
    }
   ],
   "source": [
    "from scipy import stats\n",
    "stats.spearmanr(joined_scores.on_disease_score, joined_scores.on_score)"
   ]
  },
  {
   "cell_type": "code",
   "execution_count": 89,
   "id": "c5650958",
   "metadata": {},
   "outputs": [
    {
     "data": {
      "text/plain": [
       "SpearmanrResult(correlation=0.8061937856648246, pvalue=0.0)"
      ]
     },
     "execution_count": 89,
     "metadata": {},
     "output_type": "execute_result"
    }
   ],
   "source": [
    "stats.spearmanr(joined_scores.off_disease_score, joined_scores.off_score)"
   ]
  },
  {
   "cell_type": "markdown",
   "id": "c3a15f13",
   "metadata": {},
   "source": [
    "## Whitening PCA"
   ]
  },
  {
   "cell_type": "code",
   "execution_count": 15,
   "id": "a1e7e251",
   "metadata": {},
   "outputs": [],
   "source": [
    "pca = PCA(n_components=1024, whiten=True).fit(ctrls)"
   ]
  },
  {
   "cell_type": "code",
   "execution_count": 16,
   "id": "d2a757a8",
   "metadata": {
    "scrolled": true
   },
   "outputs": [
    {
     "data": {
      "text/plain": [
       "(71013, 1024)"
      ]
     },
     "execution_count": 16,
     "metadata": {},
     "output_type": "execute_result"
    }
   ],
   "source": [
    "tvn_treatments = pd.DataFrame(pca.transform(treatments), index=treatments.index)\n",
    "tvn_actives = pd.DataFrame(pca.transform(active_sars), index=active_sars.index)\n",
    "tvn_mocks = pd.DataFrame(pca.transform(mocks), index=mocks.index)\n",
    "tvn_uvs = pd.DataFrame(pca.transform(UV_inactive_sars), index=UV_inactive_sars.index)\n",
    "tvn_ctrls = pd.DataFrame(pca.transform(ctrls), index=ctrls.index)\n",
    "\n",
    "tvn_features = pd.concat(\n",
    "    [tvn_treatments, tvn_actives, tvn_mocks, tvn_uvs, tvn_ctrls], axis=0\n",
    ")\n",
    "tvn_features.shape"
   ]
  },
  {
   "cell_type": "code",
   "execution_count": 17,
   "id": "f8a705f6",
   "metadata": {},
   "outputs": [],
   "source": [
    "tvn_features.to_csv('~/data/tvn_well_all_hrce.csv')"
   ]
  },
  {
   "cell_type": "code",
   "execution_count": 26,
   "id": "7fe6f870",
   "metadata": {},
   "outputs": [
    {
     "data": {
      "text/plain": [
       "<AxesSubplot:>"
      ]
     },
     "execution_count": 26,
     "metadata": {},
     "output_type": "execute_result"
    },
    {
     "data": {
      "image/png": "[encoded data removed]",
      "text/plain": [
       "<Figure size 720x504 with 1 Axes>"
      ]
     },
     "metadata": {},
     "output_type": "display_data"
    }
   ],
   "source": [
    "tvn_mocks.std().hist(bins=100)"
   ]
  },
  {
   "cell_type": "markdown",
   "id": "2d76ae01",
   "metadata": {},
   "source": [
    "## Replicate Reproducibility Test"
   ]
  },
  {
   "cell_type": "code",
   "execution_count": 31,
   "id": "eaf6531c",
   "metadata": {},
   "outputs": [],
   "source": [
    "BACKGROUND_DIST_GROUP_SIZE = 6\n",
    "BACKGROUND_DIST_NUM_SAMPLES = 10000\n",
    "THRESHOLD = 0.95"
   ]
  },
  {
   "cell_type": "code",
   "execution_count": 74,
   "id": "655aa6b5",
   "metadata": {},
   "outputs": [],
   "source": [
    "def similarity(table):\n",
    "    sigma = table.T.corr(method='pearson')\n",
    "    return sigma\n",
    "\n",
    "\n",
    "def random_sample(profile, metadata, sample_size):\n",
    "    group_ids = metadata.groupid.unique()\n",
    "    sub_sample_ids = random.sample(list(group_ids), min(len(group_ids),sample_size))\n",
    "    imagnumbers = []\n",
    "    for sample_id in sub_sample_ids:\n",
    "        row = metadata[metadata.groupid == sample_id].sample()\n",
    "        imagnumbers.append(row.index.tolist()[0])\n",
    "    sample = profile.loc[imagnumbers]\n",
    "    return sample\n",
    "\n",
    "\n",
    "def background_distribution(profile, metadata, group_size, num_samples):\n",
    "    background_dist = []\n",
    "    for i in range(num_samples):\n",
    "        sample = random_sample(profile, metadata, group_size)\n",
    "        sigma = similarity(sample)\n",
    "        up_tri = np.asarray(sigma)[np.triu_indices(sigma.shape[0], k=1)]\n",
    "        mcc = up_tri.mean()\n",
    "        background_dist.append(mcc)\n",
    "    return background_dist\n",
    "\n",
    "def find_threshold(distribution, coef):\n",
    "    confidence_interval = pd.Series(sorted(distribution)).quantile([coef])\n",
    "    return float(confidence_interval)\n",
    "\n",
    "\n",
    "def test_expriment(profile, metadata):\n",
    "    result = []\n",
    "    bed_groups = []\n",
    "    group_ids = list(metadata.groupid.unique())\n",
    "    for group_id  in group_ids:\n",
    "        test_group = profile.loc[list(metadata[metadata.groupid == group_id].index)]\n",
    "        if len(test_group) < 2: \n",
    "            print('Group {} has less than 2 samples.'.format(group_id))\n",
    "            bed_groups.append(group_id)\n",
    "            continue\n",
    "        sigma = similarity(test_group)\n",
    "        up_tri = np.asarray(sigma)[np.triu_indices(sigma.shape[0], k=1)]\n",
    "        mcc = up_tri.mean()\n",
    "        result.append(mcc)\n",
    "    return result, bed_groups\n",
    "\n",
    "\n",
    "def plot_hist(bgdist, exp, threshold_val):\n",
    "    sns.set(rc={'figure.figsize':(7, 5)})\n",
    "    ax = plt.gca()\n",
    "    ax.set_facecolor('white')\n",
    "    plt.xlabel('Correlation') \n",
    "    plt.ylabel('Frequency') \n",
    "    kwargs = dict(histtype='stepfilled', alpha=0.3, density=True, bins=100, ec=\"k\")\n",
    "    plt.hist(bgdist, **kwargs, label='Null')\n",
    "    plt.hist(exp, **kwargs, label='Experiment')\n",
    "    plt.axvline(threshold_val, color='red', linewidth=0.5, linestyle='-')\n",
    "    plt.grid(True, color='gray', linestyle=\"-.\", linewidth=0.5)\n",
    "    plt.legend(loc=\"upper left\")\n",
    "    plt.show()\n",
    "\n",
    "\n",
    "def replicate_reproducibility(features, labels, name, normalize=False): \n",
    "    print('Calculating Back Ground Distribution ...')\n",
    "\n",
    "    bgdist = background_distribution(\n",
    "        features, \n",
    "        labels, \n",
    "        group_size=BACKGROUND_DIST_GROUP_SIZE, \n",
    "        num_samples=BACKGROUND_DIST_NUM_SAMPLES)\n",
    "    \n",
    "    threshold_val = find_threshold(bgdist, THRESHOLD)\n",
    "    \n",
    "    print('Calculating Experiment Distribution ...')\n",
    "    exp, bed_groups = test_expriment(features, labels)\n",
    "    group_ids = list(labels[~labels.groupid.isin(bed_groups)].groupid.unique())\n",
    "\n",
    "    result_pdf = pd.DataFrame([])\n",
    "    result_pdf['replicate_corr'.format(name)] = exp\n",
    "    result_pdf['groupid'] = group_ids\n",
    "    result_pdf['above_threshold'.format(name)] = [i > threshold_val for i in exp]\n",
    "    result_pdf['threshold'.format(name)] = threshold_val\n",
    "\n",
    "    \n",
    "    bad_groupids = []\n",
    "    for gid, exp_mcc in zip(group_ids, exp):\n",
    "        if exp_mcc < threshold_val:\n",
    "            bad_groupids.append(gid)\n",
    "    above_threshold_percent = (1 - len(bad_groupids)/len(group_ids))*100\n",
    "    print('{:.2f} percent of groups are above threshold.'.format(\n",
    "        above_threshold_percent))\n",
    "    \n",
    "    plot_hist(bgdist, exp, threshold_val)\n",
    "    return result_pdf, bgdist, exp, threshold_val"
   ]
  },
  {
   "cell_type": "code",
   "execution_count": 53,
   "id": "8194d339",
   "metadata": {
    "scrolled": false
   },
   "outputs": [
    {
     "name": "stdout",
     "output_type": "stream",
     "text": [
      "Calculating Back Ground Distribution ...\n",
      "Calculating Experiment Distribution ...\n",
      "98.95 percent of groups are above threshold.\n"
     ]
    },
    {
     "data": {
      "image/png": "[encoded data removed]",
      "text/plain": [
       "<Figure size 504x360 with 1 Axes>"
      ]
     },
     "metadata": {},
     "output_type": "display_data"
    }
   ],
   "source": [
    "replicate_corr, bgdist, exp, threshold_val = replicate_reproducibility(\n",
    "    tvn_treatments, \n",
    "    tvn_treatments.join(metadata), \n",
    "    'tvn')"
   ]
  },
  {
   "cell_type": "code",
   "execution_count": 73,
   "id": "779310c9",
   "metadata": {},
   "outputs": [
    {
     "data": {
      "image/png": "[encoded data removed]",
      "text/plain": [
       "<Figure size 504x360 with 1 Axes>"
      ]
     },
     "metadata": {},
     "output_type": "display_data"
    }
   ],
   "source": [
    "# def plot_hist(bgdist, exp, threshold_val):\n",
    "sns.set(rc={'figure.figsize':(7, 5)})\n",
    "ax = plt.gca()\n",
    "ax.set_facecolor('white')\n",
    "plt.xlabel('Correlation') \n",
    "plt.ylabel('Frequency') \n",
    "kwargs = dict(histtype='stepfilled', alpha=0.3, density=True, bins=100, ec=\"k\")\n",
    "plt.hist(bgdist, **kwargs, label='Null')\n",
    "plt.hist(exp, **kwargs, label='Experiment')\n",
    "plt.axvline(threshold_val, color='red', linewidth=0.5, linestyle='-')\n",
    "plt.grid(True, color='gray', linestyle=\"-.\", linewidth=0.5)\n",
    "plt.legend(loc=\"upper right\")\n",
    "plt.show()\n",
    "# plot_hist(bgdist, exp, threshold_val)"
   ]
  },
  {
   "cell_type": "code",
   "execution_count": 34,
   "id": "8928ed62",
   "metadata": {
    "scrolled": false
   },
   "outputs": [
    {
     "name": "stdout",
     "output_type": "stream",
     "text": [
      "Calculating Back Ground Distribution ...\n",
      "Calculating Experiment Distribution ...\n",
      "38.26 percent of groups are above threshold.\n"
     ]
    },
    {
     "data": {
      "image/png": "[encoded data removed]",
      "text/plain": [
       "<Figure size 504x360 with 1 Axes>"
      ]
     },
     "metadata": {},
     "output_type": "display_data"
    }
   ],
   "source": [
    "normal_replicate_corr = replicate_reproducibility(\n",
    "    treatments, \n",
    "    treatments.join(metadata), \n",
    "    'normal')"
   ]
  },
  {
   "cell_type": "code",
   "execution_count": 75,
   "id": "e210f432",
   "metadata": {},
   "outputs": [
    {
     "name": "stdout",
     "output_type": "stream",
     "text": [
      "Calculating Back Ground Distribution ...\n",
      "Calculating Experiment Distribution ...\n",
      "80.85 percent of groups are above threshold.\n"
     ]
    },
    {
     "data": {
      "image/png": "[encoded data removed]",
      "text/plain": [
       "<Figure size 504x360 with 1 Axes>"
      ]
     },
     "metadata": {},
     "output_type": "display_data"
    }
   ],
   "source": [
    "rxrx19a_replicate_corr = replicate_reproducibility(\n",
    "    rxrx19a_profiles.set_index('well_id'), \n",
    "    rxrx19a_profiles_with_meta[rxrx19a_profiles_with_meta.treatment != 0], \n",
    "    'rxrx19a')"
   ]
  },
  {
   "cell_type": "markdown",
   "id": "d57c5e25",
   "metadata": {},
   "source": [
    "## MOA Enrichment "
   ]
  },
  {
   "cell_type": "markdown",
   "id": "adf3d8eb",
   "metadata": {},
   "source": [
    "### Treatment to MOA"
   ]
  },
  {
   "cell_type": "code",
   "execution_count": 22,
   "id": "a89b1700",
   "metadata": {},
   "outputs": [
    {
     "data": {
      "text/html": [
       "<div>\n",
       "<style scoped>\n",
       "    .dataframe tbody tr th:only-of-type {\n",
       "        vertical-align: middle;\n",
       "    }\n",
       "\n",
       "    .dataframe tbody tr th {\n",
       "        vertical-align: top;\n",
       "    }\n",
       "\n",
       "    .dataframe thead th {\n",
       "        text-align: right;\n",
       "    }\n",
       "</style>\n",
       "<table border=\"1\" class=\"dataframe\">\n",
       "  <thead>\n",
       "    <tr style=\"text-align: right;\">\n",
       "      <th></th>\n",
       "      <th>treatment</th>\n",
       "      <th>moa</th>\n",
       "    </tr>\n",
       "  </thead>\n",
       "  <tbody>\n",
       "    <tr>\n",
       "      <th>0</th>\n",
       "      <td>l-glutamic acid</td>\n",
       "      <td>Nutritional support</td>\n",
       "    </tr>\n",
       "    <tr>\n",
       "      <th>1</th>\n",
       "      <td>glucosamine</td>\n",
       "      <td>Supplement</td>\n",
       "    </tr>\n",
       "    <tr>\n",
       "      <th>2</th>\n",
       "      <td>picosulfate</td>\n",
       "      <td>Stimulant laxative</td>\n",
       "    </tr>\n",
       "    <tr>\n",
       "      <th>3</th>\n",
       "      <td>lactulose</td>\n",
       "      <td>Colonic bacteria substrate</td>\n",
       "    </tr>\n",
       "    <tr>\n",
       "      <th>4</th>\n",
       "      <td>thiamine</td>\n",
       "      <td>Supplement</td>\n",
       "    </tr>\n",
       "  </tbody>\n",
       "</table>\n",
       "</div>"
      ],
      "text/plain": [
       "         treatment                         moa\n",
       "0  l-glutamic acid         Nutritional support\n",
       "1      glucosamine                  Supplement\n",
       "2      picosulfate          Stimulant laxative\n",
       "3        lactulose  Colonic bacteria substrate\n",
       "4         thiamine                  Supplement"
      ]
     },
     "execution_count": 22,
     "metadata": {},
     "output_type": "execute_result"
    }
   ],
   "source": [
    "moa_embl = pd.read_csv('../data/rxrx19_moa.csv', index_col=0)\n",
    "moa_embl = moa_embl[['treatment', 'Mechanism of Action']]\n",
    "moa_embl = moa_embl[moa_embl['Mechanism of Action'] != 'Unknown']\n",
    "moa_embl = (\n",
    "    pd.DataFrame(moa_embl['Mechanism of Action']\n",
    "                 .str.split(';')\n",
    "                 .tolist(), index=moa_embl['treatment'])\n",
    "    .stack().reset_index()\n",
    ")\n",
    "moa_embl.columns = ['treatment', 'level_1', 'moa']\n",
    "moa_embl = moa_embl[['treatment', 'moa']]\n",
    "moa_embl.head()"
   ]
  },
  {
   "cell_type": "code",
   "execution_count": 23,
   "id": "2856fd4c",
   "metadata": {
    "scrolled": true
   },
   "outputs": [
    {
     "data": {
      "text/html": [
       "<div>\n",
       "<style scoped>\n",
       "    .dataframe tbody tr th:only-of-type {\n",
       "        vertical-align: middle;\n",
       "    }\n",
       "\n",
       "    .dataframe tbody tr th {\n",
       "        vertical-align: top;\n",
       "    }\n",
       "\n",
       "    .dataframe thead th {\n",
       "        text-align: right;\n",
       "    }\n",
       "</style>\n",
       "<table border=\"1\" class=\"dataframe\">\n",
       "  <thead>\n",
       "    <tr style=\"text-align: right;\">\n",
       "      <th></th>\n",
       "      <th>treatment</th>\n",
       "      <th>moa</th>\n",
       "    </tr>\n",
       "  </thead>\n",
       "  <tbody>\n",
       "    <tr>\n",
       "      <th>0</th>\n",
       "      <td>(+)-cedrol</td>\n",
       "      <td>sedative</td>\n",
       "    </tr>\n",
       "    <tr>\n",
       "      <th>1</th>\n",
       "      <td>(+)-cloprostenol</td>\n",
       "      <td>prostaglandin receptor agonist</td>\n",
       "    </tr>\n",
       "    <tr>\n",
       "      <th>2</th>\n",
       "      <td>(+)-ephedrine (hydrochloride)</td>\n",
       "      <td>adrenergic receptor agonist</td>\n",
       "    </tr>\n",
       "    <tr>\n",
       "      <th>3</th>\n",
       "      <td>(-)-huperzine a (hupa)</td>\n",
       "      <td>acetylcholinesterase inhibitor</td>\n",
       "    </tr>\n",
       "    <tr>\n",
       "      <th>4</th>\n",
       "      <td>(r)-baclofen</td>\n",
       "      <td>benzodiazepine receptor agonist</td>\n",
       "    </tr>\n",
       "  </tbody>\n",
       "</table>\n",
       "</div>"
      ],
      "text/plain": [
       "                       treatment                              moa\n",
       "0                     (+)-cedrol                         sedative\n",
       "1               (+)-cloprostenol   prostaglandin receptor agonist\n",
       "2  (+)-ephedrine (hydrochloride)      adrenergic receptor agonist\n",
       "3         (-)-huperzine a (hupa)   acetylcholinesterase inhibitor\n",
       "4                   (r)-baclofen  benzodiazepine receptor agonist"
      ]
     },
     "execution_count": 23,
     "metadata": {},
     "output_type": "execute_result"
    }
   ],
   "source": [
    "moa_repurposing = pd.read_csv(MOA_PATH)\n",
    "moa_repurposing.moa = moa_repurposing.moa.apply(literal_eval)\n",
    "moa_repurposing = moa_repurposing.explode('moa')\n",
    "moa_repurposing.head()"
   ]
  },
  {
   "cell_type": "code",
   "execution_count": 24,
   "id": "3a8ed7b0",
   "metadata": {},
   "outputs": [
    {
     "data": {
      "text/html": [
       "<div>\n",
       "<style scoped>\n",
       "    .dataframe tbody tr th:only-of-type {\n",
       "        vertical-align: middle;\n",
       "    }\n",
       "\n",
       "    .dataframe tbody tr th {\n",
       "        vertical-align: top;\n",
       "    }\n",
       "\n",
       "    .dataframe thead th {\n",
       "        text-align: right;\n",
       "    }\n",
       "</style>\n",
       "<table border=\"1\" class=\"dataframe\">\n",
       "  <thead>\n",
       "    <tr style=\"text-align: right;\">\n",
       "      <th></th>\n",
       "      <th>treatment</th>\n",
       "      <th>moa</th>\n",
       "    </tr>\n",
       "  </thead>\n",
       "  <tbody>\n",
       "    <tr>\n",
       "      <th>0</th>\n",
       "      <td>(+)-cedrol</td>\n",
       "      <td>{sedative}</td>\n",
       "    </tr>\n",
       "    <tr>\n",
       "      <th>1</th>\n",
       "      <td>(+)-cloprostenol</td>\n",
       "      <td>{prostaglandin receptor agonist}</td>\n",
       "    </tr>\n",
       "    <tr>\n",
       "      <th>2</th>\n",
       "      <td>(+)-ephedrine (hydrochloride)</td>\n",
       "      <td>{adrenergic receptor agonist}</td>\n",
       "    </tr>\n",
       "    <tr>\n",
       "      <th>3</th>\n",
       "      <td>(-)-huperzine a (hupa)</td>\n",
       "      <td>{acetylcholinesterase inhibitor}</td>\n",
       "    </tr>\n",
       "    <tr>\n",
       "      <th>4</th>\n",
       "      <td>(r)-baclofen</td>\n",
       "      <td>{benzodiazepine receptor agonist, gaba-b recep...</td>\n",
       "    </tr>\n",
       "    <tr>\n",
       "      <th>...</th>\n",
       "      <td>...</td>\n",
       "      <td>...</td>\n",
       "    </tr>\n",
       "    <tr>\n",
       "      <th>1627</th>\n",
       "      <td>zonisamide</td>\n",
       "      <td>{sodium channel blocker, t-type calcium channe...</td>\n",
       "    </tr>\n",
       "    <tr>\n",
       "      <th>1628</th>\n",
       "      <td>zotarolimus</td>\n",
       "      <td>{fk506-binding protein 1a inhibitor, mtor inhi...</td>\n",
       "    </tr>\n",
       "    <tr>\n",
       "      <th>1629</th>\n",
       "      <td>zotepine</td>\n",
       "      <td>{dopamine receptor antagonist, serotonin recep...</td>\n",
       "    </tr>\n",
       "    <tr>\n",
       "      <th>1630</th>\n",
       "      <td>zuclopenthixol</td>\n",
       "      <td>{dopamine receptor antagonist}</td>\n",
       "    </tr>\n",
       "    <tr>\n",
       "      <th>1631</th>\n",
       "      <td>β-estradiol 17-acetate</td>\n",
       "      <td>{estrogen receptor agonist}</td>\n",
       "    </tr>\n",
       "  </tbody>\n",
       "</table>\n",
       "<p>1632 rows × 2 columns</p>\n",
       "</div>"
      ],
      "text/plain": [
       "                          treatment  \\\n",
       "0                        (+)-cedrol   \n",
       "1                  (+)-cloprostenol   \n",
       "2     (+)-ephedrine (hydrochloride)   \n",
       "3            (-)-huperzine a (hupa)   \n",
       "4                      (r)-baclofen   \n",
       "...                             ...   \n",
       "1627                     zonisamide   \n",
       "1628                    zotarolimus   \n",
       "1629                       zotepine   \n",
       "1630                 zuclopenthixol   \n",
       "1631         β-estradiol 17-acetate   \n",
       "\n",
       "                                                    moa  \n",
       "0                                            {sedative}  \n",
       "1                      {prostaglandin receptor agonist}  \n",
       "2                         {adrenergic receptor agonist}  \n",
       "3                      {acetylcholinesterase inhibitor}  \n",
       "4     {benzodiazepine receptor agonist, gaba-b recep...  \n",
       "...                                                 ...  \n",
       "1627  {sodium channel blocker, t-type calcium channe...  \n",
       "1628  {fk506-binding protein 1a inhibitor, mtor inhi...  \n",
       "1629  {dopamine receptor antagonist, serotonin recep...  \n",
       "1630                     {dopamine receptor antagonist}  \n",
       "1631                        {estrogen receptor agonist}  \n",
       "\n",
       "[1632 rows x 2 columns]"
      ]
     },
     "execution_count": 24,
     "metadata": {},
     "output_type": "execute_result"
    }
   ],
   "source": [
    "moa = pd.concat([moa_repurposing, moa_embl], join='inner')\n",
    "moa.moa = moa.moa.str.lower()\n",
    "moa = moa.groupby('treatment')['moa'].apply(set).reset_index()\n",
    "moa"
   ]
  },
  {
   "cell_type": "code",
   "execution_count": 25,
   "id": "4baa854f",
   "metadata": {},
   "outputs": [],
   "source": [
    "treatment_to_moa = moa.set_index('treatment').moa.to_dict()"
   ]
  },
  {
   "cell_type": "code",
   "execution_count": 26,
   "id": "b559f1fb",
   "metadata": {
    "scrolled": true
   },
   "outputs": [],
   "source": [
    "missing_treatments = set(metadata.treatment.unique()) - set(treatment_to_moa.keys())\n",
    "for missing_treatment in missing_treatments:\n",
    "    treatment_to_moa[missing_treatment] = {}"
   ]
  },
  {
   "cell_type": "markdown",
   "id": "bc9bfeaf",
   "metadata": {},
   "source": [
    "### Correlation"
   ]
  },
  {
   "cell_type": "code",
   "execution_count": 27,
   "id": "d7cc3087",
   "metadata": {
    "scrolled": false
   },
   "outputs": [],
   "source": [
    "def calculate_correlation(features, metadata):\n",
    "    with_meta = (\n",
    "        features\n",
    "        .join(metadata)\n",
    "        .groupby(['treatment', 'treatment_conc']).mean()\n",
    "        .reset_index()\n",
    "    )\n",
    "    with_meta = with_meta[with_meta.treatment != 0]\n",
    "    return(\n",
    "        with_meta\n",
    "        .set_index('treatment')\n",
    "        .drop(['treatment_conc', 'groupid', 'treatmentid'], axis=1)\n",
    "    ).T.corr(method='pearson')"
   ]
  },
  {
   "cell_type": "code",
   "execution_count": 177,
   "id": "3dd47876",
   "metadata": {
    "scrolled": true
   },
   "outputs": [
    {
     "data": {
      "text/plain": [
       "(9887, 9887)"
      ]
     },
     "execution_count": 177,
     "metadata": {},
     "output_type": "execute_result"
    }
   ],
   "source": [
    "correlation = calculate_correlation(tvn_treatments, metadata)\n",
    "correlation.shape"
   ]
  },
  {
   "cell_type": "code",
   "execution_count": 32,
   "id": "27b749b5",
   "metadata": {},
   "outputs": [],
   "source": [
    "significant_replicates = normal_replicate_corr[normal_replicate_corr.above_threshold].groupid.to_frame('groupid')"
   ]
  },
  {
   "cell_type": "code",
   "execution_count": 38,
   "id": "ef7a4c13",
   "metadata": {},
   "outputs": [],
   "source": [
    "significant_profiles = (\n",
    "    treatments.join(metadata).reset_index()\n",
    "    .merge(significant_replicates, on='groupid')\n",
    "    .set_index('well_id').drop(metadata.columns, axis=1)\n",
    ")"
   ]
  },
  {
   "cell_type": "code",
   "execution_count": 39,
   "id": "6c5b5c8b",
   "metadata": {},
   "outputs": [
    {
     "data": {
      "text/plain": [
       "(5244, 5244)"
      ]
     },
     "execution_count": 39,
     "metadata": {},
     "output_type": "execute_result"
    }
   ],
   "source": [
    "normal_correlation = calculate_correlation(significant_profiles, metadata)\n",
    "normal_correlation.shape"
   ]
  },
  {
   "cell_type": "code",
   "execution_count": 178,
   "id": "7dae24ed",
   "metadata": {},
   "outputs": [
    {
     "data": {
      "text/plain": [
       "(9887, 9887)"
      ]
     },
     "execution_count": 178,
     "metadata": {},
     "output_type": "execute_result"
    }
   ],
   "source": [
    "rxrx19a_correlation = calculate_correlation(\n",
    "    rxrx19a_profiles.set_index('well_id'), metadata)\n",
    "rxrx19a_correlation.shape"
   ]
  },
  {
   "cell_type": "code",
   "execution_count": 41,
   "id": "05faf240",
   "metadata": {},
   "outputs": [],
   "source": [
    "def sort_pairwise_correlation(correlation, ascending=False):\n",
    "    keep = np.triu(np.ones(correlation.shape)).astype('bool').reshape(correlation.size)\n",
    "    pairwise_correlations = correlation.stack(dropna=True, level=0)[keep].to_frame()\n",
    "    pairwise_correlations = pairwise_correlations.reset_index(level=0)\n",
    "    pairwise_correlations.columns = ['treatment2', 'correlation']\n",
    "    pairwise_correlations = pairwise_correlations.reset_index()\n",
    "    pairwise_correlations = pairwise_correlations[\n",
    "        pairwise_correlations.treatment != pairwise_correlations.treatment2\n",
    "    ]\n",
    "    pairwise_correlations = pairwise_correlations.groupby(['treatment', 'treatment2']).max()\n",
    "    pairwise_correlations = pairwise_correlations.sort_values('correlation', ascending=ascending)\n",
    "    return pairwise_correlations\n",
    "\n",
    "def divide_dataframe(dataframe, ratio):\n",
    "    max_index = int(len(dataframe) * ratio)\n",
    "    top_dataframe = dataframe.iloc[:max_index]\n",
    "    down_dataframe = dataframe.iloc[max_index+1:]\n",
    "    return top_dataframe, down_dataframe"
   ]
  },
  {
   "cell_type": "code",
   "execution_count": 180,
   "id": "b10b53db",
   "metadata": {
    "scrolled": true
   },
   "outputs": [
    {
     "data": {
      "text/plain": [
       "(66953, 1272112)"
      ]
     },
     "execution_count": 180,
     "metadata": {},
     "output_type": "execute_result"
    }
   ],
   "source": [
    "sorted_correlation = sort_pairwise_correlation(correlation)\n",
    "\n",
    "high_correlated, correlated = divide_dataframe(\n",
    "    sorted_correlation, ratio=0.05)\n",
    "\n",
    "len(high_correlated), len(correlated)"
   ]
  },
  {
   "cell_type": "code",
   "execution_count": 42,
   "id": "ab84d92d",
   "metadata": {},
   "outputs": [
    {
     "data": {
      "text/plain": [
       "(62212, 1182040)"
      ]
     },
     "execution_count": 42,
     "metadata": {},
     "output_type": "execute_result"
    }
   ],
   "source": [
    "normal_sorted_correlation = sort_pairwise_correlation(normal_correlation)\n",
    "\n",
    "normal_high_correlated, normal_correlated = divide_dataframe(\n",
    "    normal_sorted_correlation, ratio=0.05)\n",
    "\n",
    "len(normal_high_correlated), len(normal_correlated)"
   ]
  },
  {
   "cell_type": "code",
   "execution_count": 182,
   "id": "c4c1ad71",
   "metadata": {},
   "outputs": [
    {
     "data": {
      "text/plain": [
       "(66953, 1272112)"
      ]
     },
     "execution_count": 182,
     "metadata": {},
     "output_type": "execute_result"
    }
   ],
   "source": [
    "rxrx19a_sorted_correlation = sort_pairwise_correlation(rxrx19a_correlation)\n",
    "\n",
    "rxrx19a_high_correlated, rxrx19a_correlated = divide_dataframe(\n",
    "    rxrx19a_sorted_correlation, ratio=0.05)\n",
    "\n",
    "len(rxrx19a_high_correlated), len(rxrx19a_correlated)"
   ]
  },
  {
   "cell_type": "code",
   "execution_count": 43,
   "id": "ff986bcd",
   "metadata": {},
   "outputs": [],
   "source": [
    "def calculate_treatment_similarity(dataframe):\n",
    "\n",
    "    similarity = dataframe.apply(\n",
    "        lambda row: utils.moa_similarity(\n",
    "            treatment_to_moa[row.name[0]],\n",
    "            treatment_to_moa[row.name[1]]\n",
    "        ),\n",
    "        axis=1\n",
    "    )\n",
    "    return similarity.tolist()"
   ]
  },
  {
   "cell_type": "code",
   "execution_count": 184,
   "id": "ed6f4b54",
   "metadata": {
    "scrolled": true
   },
   "outputs": [
    {
     "data": {
      "text/plain": [
       "((66953,), (1272112,))"
      ]
     },
     "execution_count": 184,
     "metadata": {},
     "output_type": "execute_result"
    }
   ],
   "source": [
    "high_correlated_profile_similarity = calculate_treatment_similarity(high_correlated)\n",
    "correlated_profile_similarity = calculate_treatment_similarity(correlated)\n",
    "np.shape(high_correlated_profile_similarity), np.shape(correlated_profile_similarity)"
   ]
  },
  {
   "cell_type": "code",
   "execution_count": 185,
   "id": "81f1b91b",
   "metadata": {
    "scrolled": true
   },
   "outputs": [
    {
     "name": "stdout",
     "output_type": "stream",
     "text": [
      "[[1150, 65803], [18686, 1253426]]\n",
      "odds ratio for Profile = 1.1722884904907434\n",
      "pvalue for Profile = 3.905937010748695e-07\n"
     ]
    }
   ],
   "source": [
    "profile_contingency_table = utils.create_contingency_table(\n",
    "    high_correlated_profile_similarity, correlated_profile_similarity)\n",
    "print(profile_contingency_table)\n",
    "\n",
    "oddsratio, pvalue = stats.fisher_exact(profile_contingency_table) \n",
    "\n",
    "print('odds ratio for Profile = {}'.format(oddsratio))\n",
    "print('pvalue for Profile = {}'.format(pvalue))"
   ]
  },
  {
   "cell_type": "code",
   "execution_count": 44,
   "id": "df47f175",
   "metadata": {},
   "outputs": [
    {
     "data": {
      "text/plain": [
       "((62212,), (1182040,))"
      ]
     },
     "execution_count": 44,
     "metadata": {},
     "output_type": "execute_result"
    }
   ],
   "source": [
    "high_correlated_normal_profile_similarity = calculate_treatment_similarity(normal_high_correlated)\n",
    "correlated_normal_profile_similarity = calculate_treatment_similarity(normal_correlated)\n",
    "np.shape(high_correlated_normal_profile_similarity), np.shape(correlated_normal_profile_similarity)"
   ]
  },
  {
   "cell_type": "code",
   "execution_count": 45,
   "id": "0b2478bc",
   "metadata": {},
   "outputs": [
    {
     "name": "stdout",
     "output_type": "stream",
     "text": [
      "[[1064, 61148], [17283, 1164757]]\n",
      "odds ratio for Profile = 1.1726693394904562\n",
      "pvalue for Profile = 9.622113353427936e-07\n"
     ]
    }
   ],
   "source": [
    "profile_contingency_table = utils.create_contingency_table(\n",
    "    high_correlated_normal_profile_similarity, correlated_normal_profile_similarity)\n",
    "print(profile_contingency_table)\n",
    "\n",
    "oddsratio, pvalue = stats.fisher_exact(profile_contingency_table) \n",
    "\n",
    "print('odds ratio for Profile = {}'.format(oddsratio))\n",
    "print('pvalue for Profile = {}'.format(pvalue))"
   ]
  },
  {
   "cell_type": "code",
   "execution_count": 186,
   "id": "bfb60721",
   "metadata": {},
   "outputs": [
    {
     "data": {
      "text/plain": [
       "((66953,), (1272112,))"
      ]
     },
     "execution_count": 186,
     "metadata": {},
     "output_type": "execute_result"
    }
   ],
   "source": [
    "rxrx19a_high_correlated_profile_similarity = calculate_treatment_similarity(\n",
    "    rxrx19a_high_correlated)\n",
    "rxrx19a_correlated_profile_similarity = calculate_treatment_similarity(\n",
    "    rxrx19a_correlated)\n",
    "np.shape(rxrx19a_high_correlated_profile_similarity), np.shape(rxrx19a_correlated_profile_similarity)"
   ]
  },
  {
   "cell_type": "code",
   "execution_count": 187,
   "id": "ab67fd2a",
   "metadata": {},
   "outputs": [
    {
     "name": "stdout",
     "output_type": "stream",
     "text": [
      "[[1111, 65842], [18725, 1253387]]\n",
      "odds ratio for Profile = 1.129469230239207\n",
      "pvalue for Profile = 0.00012234449474839956\n"
     ]
    }
   ],
   "source": [
    "profile_contingency_table = utils.create_contingency_table(\n",
    "    rxrx19a_high_correlated_profile_similarity, rxrx19a_correlated_profile_similarity)\n",
    "print(profile_contingency_table)\n",
    "\n",
    "oddsratio, pvalue = stats.fisher_exact(profile_contingency_table) \n",
    "\n",
    "print('odds ratio for Profile = {}'.format(oddsratio))\n",
    "print('pvalue for Profile = {}'.format(pvalue))"
   ]
  }
 ],
 "metadata": {
  "kernelspec": {
   "display_name": "Python 3 (ipykernel)",
   "language": "python",
   "name": "python3"
  },
  "language_info": {
   "codemirror_mode": {
    "name": "ipython",
    "version": 3
   },
   "file_extension": ".py",
   "mimetype": "text/x-python",
   "name": "python",
   "nbconvert_exporter": "python",
   "pygments_lexer": "ipython3",
   "version": "3.8.5"
  }
 },
 "nbformat": 4,
 "nbformat_minor": 5
}
