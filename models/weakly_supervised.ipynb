{
 "cells": [
  {
   "cell_type": "markdown",
   "id": "b3512abb",
   "metadata": {},
   "source": [
    "# Weakly Supervised Disease Score"
   ]
  },
  {
   "cell_type": "markdown",
   "id": "ffe705eb",
   "metadata": {},
   "source": [
    "## Import"
   ]
  },
  {
   "cell_type": "code",
   "execution_count": 1,
   "id": "48f5d76d",
   "metadata": {},
   "outputs": [],
   "source": [
    "import sys\n",
    "import os\n",
    "import random\n",
    "import numpy as np\n",
    "import pandas as pd\n",
    "import seaborn as sns\n",
    "import torch\n",
    "import matplotlib.pyplot as plt\n",
    "\n",
    "\n",
    "from torch import nn\n",
    "from torch.utils.data import Dataset, DataLoader, TensorDataset\n",
    "from tqdm import tqdm \n",
    "from ast import literal_eval\n",
    "from scipy.spatial.distance import cosine\n",
    "from scipy.stats.stats import pearsonr   \n",
    "from sklearn.decomposition import PCA\n",
    "from sklearn.manifold import TSNE\n",
    "from torch.autograd import Variable\n",
    "from sklearn.gaussian_process import GaussianProcessRegressor\n",
    "from sklearn.metrics import mean_squared_error"
   ]
  },
  {
   "cell_type": "markdown",
   "id": "d70d2a4f",
   "metadata": {},
   "source": [
    "## Configs"
   ]
  },
  {
   "cell_type": "code",
   "execution_count": 2,
   "id": "3875391c",
   "metadata": {},
   "outputs": [],
   "source": [
    "EXPERIMENTS = ['HRCE-1', 'HRCE-2']\n",
    "PLATE_NUMBERS = {\n",
    "    'HRCE-1': 26,\n",
    "    'HRCE-2': 27\n",
    "}"
   ]
  },
  {
   "cell_type": "markdown",
   "id": "e58afc1c",
   "metadata": {},
   "source": [
    "## Data Paths"
   ]
  },
  {
   "cell_type": "code",
   "execution_count": 3,
   "id": "793c643d",
   "metadata": {},
   "outputs": [],
   "source": [
    "DATA_PATH = '../../data'\n",
    "FEATURES_PATH = os.path.join('../..', 'features')\n",
    "CP_NORMAL_FILE = 'normalized_well_profile.csv'\n",
    "METADATA_PATH = os.path.join(DATA_PATH, 'metadata.csv')\n",
    "WELL_CELL_COUNTS_PATH = os.path.join(DATA_PATH, 'significant_replicates', 'cell_count.csv')"
   ]
  },
  {
   "cell_type": "markdown",
   "id": "07eb1fdd",
   "metadata": {},
   "source": [
    "## Load and Prepare Dataset"
   ]
  },
  {
   "cell_type": "code",
   "execution_count": 4,
   "id": "b7194972",
   "metadata": {},
   "outputs": [],
   "source": [
    "def load_profiles(experiments, plate_numbers, profile_name, drop_cols=[]):\n",
    "    profiles = []\n",
    "    for experiment in experiments:\n",
    "        for i in tqdm(range(1, plate_numbers[experiment]+1)):\n",
    "            data_path = os.path.join(\n",
    "                FEATURES_PATH, experiment, 'Plate'+str(i), profile_name)\n",
    "            profile = pd.read_csv(data_path)\n",
    "            if 'well_id' not in profile.columns: print(i)\n",
    "            profiles.append(profile)\n",
    "    profiles = (\n",
    "        pd.concat(profiles, axis=0, join='inner').drop(drop_cols, axis=1)\n",
    "    ).dropna(axis=1)\n",
    "    granularity_columns = [x for x in profiles.columns if ('Granularity' in x)]\n",
    "    profiles = profiles.drop(granularity_columns, axis=1)\n",
    "    return profiles"
   ]
  },
  {
   "cell_type": "code",
   "execution_count": 5,
   "id": "078028c2",
   "metadata": {},
   "outputs": [
    {
     "name": "stderr",
     "output_type": "stream",
     "text": [
      "100%|██████████████████████████████████████████████████████████████████████████████| 26/26 [00:19<00:00,  1.31it/s]\n",
      "100%|██████████████████████████████████████████████████████████████████████████████| 27/27 [00:20<00:00,  1.33it/s]\n"
     ]
    },
    {
     "data": {
      "text/plain": [
       "(71013, 2329)"
      ]
     },
     "execution_count": 5,
     "metadata": {},
     "output_type": "execute_result"
    }
   ],
   "source": [
    "profiles = load_profiles(EXPERIMENTS, PLATE_NUMBERS, CP_NORMAL_FILE, drop_cols=['label', 'groupid'])\n",
    "profiles.shape"
   ]
  },
  {
   "cell_type": "code",
   "execution_count": 6,
   "id": "7eb07959",
   "metadata": {},
   "outputs": [],
   "source": [
    "def load_metadata(metadata_path, experiments):\n",
    "    def label(disease_condition):\n",
    "        if  disease_condition == 0: return 'negctrl'\n",
    "        else: return 'posctrl'\n",
    "    metadata = pd.read_csv(metadata_path)    \n",
    "    metadata = metadata[metadata.experiment.isin(experiments)]\n",
    "    metadata.treatment = metadata.treatment.str.lower()\n",
    "    metadata = metadata[['treatment', 'treatment_conc' , 'well_id', 'disease_condition']]\n",
    "    metadata = metadata.fillna(0)\n",
    "    metadata['label'] = metadata.apply(lambda row: label(row.disease_condition), axis=1)\n",
    "    metadata = metadata.assign(\n",
    "        groupid = metadata.groupby(\n",
    "            ['treatment', 'treatment_conc', 'disease_condition']).ngroup())\n",
    "    metadata = metadata.assign(\n",
    "        treatmentid = metadata.groupby(\n",
    "            ['treatment', 'disease_condition']).ngroup())\n",
    "    return metadata"
   ]
  },
  {
   "cell_type": "code",
   "execution_count": 7,
   "id": "8ef0aba5",
   "metadata": {},
   "outputs": [],
   "source": [
    "metadata = load_metadata(METADATA_PATH, EXPERIMENTS).set_index('well_id')"
   ]
  },
  {
   "cell_type": "code",
   "execution_count": 8,
   "id": "15c02611",
   "metadata": {},
   "outputs": [],
   "source": [
    "def add_metadata_to_profiles(metadata, profiles):\n",
    "    return (\n",
    "        metadata.join(profiles.set_index('well_id'), how='inner')\n",
    "        .drop_duplicates()\n",
    "    )"
   ]
  },
  {
   "cell_type": "code",
   "execution_count": 9,
   "id": "7f49ec0d",
   "metadata": {},
   "outputs": [
    {
     "data": {
      "text/plain": [
       "(71013, 2334)"
      ]
     },
     "execution_count": 9,
     "metadata": {},
     "output_type": "execute_result"
    }
   ],
   "source": [
    "profiles_with_meta = add_metadata_to_profiles(metadata, profiles)\n",
    "profiles_with_meta.shape"
   ]
  },
  {
   "cell_type": "code",
   "execution_count": 17,
   "id": "beb9743e",
   "metadata": {
    "scrolled": true
   },
   "outputs": [
    {
     "data": {
      "text/plain": [
       "2677"
      ]
     },
     "execution_count": 17,
     "metadata": {},
     "output_type": "execute_result"
    }
   ],
   "source": [
    "well_cell_counts = pd.read_csv(WELL_CELL_COUNTS_PATH)\n",
    "toxic_wells = well_cell_counts[well_cell_counts.cell_count < 75].well_id.unique()\n",
    "len(toxic_wells)"
   ]
  },
  {
   "cell_type": "code",
   "execution_count": 18,
   "id": "4aa013c0",
   "metadata": {
    "scrolled": false
   },
   "outputs": [
    {
     "data": {
      "text/plain": [
       "((61693, 2328),\n",
       " (3377, 2328),\n",
       " (2107, 2328),\n",
       " (2108, 2328),\n",
       " (1172, 2328),\n",
       " (71013, 2328))"
      ]
     },
     "execution_count": 18,
     "metadata": {},
     "output_type": "execute_result"
    }
   ],
   "source": [
    "toxics = (\n",
    "    profiles_with_meta[profiles_with_meta.index.isin(toxic_wells)]\n",
    "    .drop(metadata.columns, axis=1)\n",
    ")\n",
    "\n",
    "non_toxics = profiles_with_meta[~profiles_with_meta.index.isin(toxic_wells)]\n",
    "\n",
    "\n",
    "ctrls = (\n",
    "    non_toxics[non_toxics.label == 'negctrl']\n",
    "    .drop(metadata.columns, axis=1)\n",
    ")\n",
    "\n",
    "active_sars = (\n",
    "    non_toxics[\n",
    "        (non_toxics.disease_condition == 'Active SARS-CoV-2') &\n",
    "        (non_toxics.treatment == 0)\n",
    "    ]\n",
    ").drop(metadata.columns, axis=1)\n",
    "\n",
    "mocks  = (\n",
    "    non_toxics[non_toxics.disease_condition == 'Mock']\n",
    "    .drop(metadata.columns, axis=1)\n",
    ")\n",
    "\n",
    "UV_inactive_sars = (\n",
    "    non_toxics[\n",
    "    non_toxics.disease_condition == 'UV Inactivated SARS-CoV-2']\n",
    "    .drop(metadata.columns, axis=1)\n",
    ")\n",
    "\n",
    "treatments = (\n",
    "    profiles_with_meta[profiles_with_meta.treatment != 0]\n",
    "    .drop(metadata.columns, axis=1)\n",
    ")\n",
    "\n",
    "features = profiles.set_index('well_id')\n",
    "\n",
    "treatments.shape, active_sars.shape, mocks.shape, UV_inactive_sars.shape, ctrls.shape, features.shape"
   ]
  },
  {
   "cell_type": "markdown",
   "id": "a8ec198b",
   "metadata": {},
   "source": [
    "## PCA Whitening"
   ]
  },
  {
   "cell_type": "code",
   "execution_count": 19,
   "id": "b5e07f54",
   "metadata": {},
   "outputs": [],
   "source": [
    "pca = PCA(n_components=1024, whiten=True).fit(ctrls)"
   ]
  },
  {
   "cell_type": "code",
   "execution_count": 20,
   "id": "13bf3f49",
   "metadata": {},
   "outputs": [
    {
     "data": {
      "text/plain": [
       "(73127, 1024)"
      ]
     },
     "execution_count": 20,
     "metadata": {},
     "output_type": "execute_result"
    }
   ],
   "source": [
    "tvn_treatments = pd.DataFrame(pca.transform(treatments), index=treatments.index)\n",
    "tvn_actives = pd.DataFrame(pca.transform(active_sars), index=active_sars.index)\n",
    "tvn_mocks = pd.DataFrame(pca.transform(mocks), index=mocks.index)\n",
    "tvn_uvs = pd.DataFrame(pca.transform(UV_inactive_sars), index=UV_inactive_sars.index)\n",
    "tvn_ctrls = pd.DataFrame(pca.transform(ctrls), index=ctrls.index)\n",
    "tvn_toxics = pd.DataFrame(pca.transform(toxics), index=toxics.index)\n",
    "\n",
    "\n",
    "tvn_features = pd.concat(\n",
    "    [tvn_treatments, tvn_actives, tvn_mocks, tvn_uvs, tvn_ctrls, tvn_toxics], axis=0\n",
    ")\n",
    "tvn_features.shape"
   ]
  },
  {
   "cell_type": "markdown",
   "id": "53ec58d7",
   "metadata": {},
   "source": [
    "## Dataset"
   ]
  },
  {
   "cell_type": "code",
   "execution_count": 21,
   "id": "3c4cb8e5",
   "metadata": {
    "scrolled": true
   },
   "outputs": [],
   "source": [
    "dist_std = profiles.set_index('well_id').std()\n",
    "dist_mean = profiles.set_index('well_id').mean()"
   ]
  },
  {
   "cell_type": "code",
   "execution_count": 22,
   "id": "39604151",
   "metadata": {},
   "outputs": [],
   "source": [
    "def gram_schmit(v, u):\n",
    "    scale = np.dot(v, u.T)/np.dot(u, u.T)\n",
    "    v_prime = v - u*scale\n",
    "    return v_prime"
   ]
  },
  {
   "cell_type": "code",
   "execution_count": 23,
   "id": "a9ac3f31",
   "metadata": {},
   "outputs": [],
   "source": [
    "def generate_random_noise(mean, std):\n",
    "    noise = []\n",
    "    for i in range(len(mean)):\n",
    "        noise.append(np.random.normal(mean[i],std[i]))\n",
    "    return pd.Series(noise).values"
   ]
  },
  {
   "cell_type": "code",
   "execution_count": 24,
   "id": "6e14a32a",
   "metadata": {
    "scrolled": true
   },
   "outputs": [
    {
     "name": "stderr",
     "output_type": "stream",
     "text": [
      "100%|██████████████████████████████████████████████████████████████████████████| 5000/5000 [01:28<00:00, 56.39it/s]\n",
      "0it [00:00, ?it/s]\n"
     ]
    },
    {
     "data": {
      "text/plain": [
       "(14326, 2109)"
      ]
     },
     "execution_count": 24,
     "metadata": {},
     "output_type": "execute_result"
    }
   ],
   "source": [
    "def get_dataset(pca, positive_features, negative_features, augment_size=0, mean=None, std=None):\n",
    "    positive_labels = np.ones(len(positive_features))\n",
    "    negative_labels = np.zeros(len(negative_features))\n",
    "\n",
    "    augmented_features = []\n",
    "    aug_labels = []\n",
    "    pos_mean = positive_features.mean()\n",
    "    neg_mean = negative_features.mean()\n",
    "    \n",
    "    for i in tqdm(range(augment_size)):\n",
    "        alpha = random.random()\n",
    "        \n",
    "        neg = negative_features.sample().mean().values\n",
    "        pos = positive_features.sample().mean().values \n",
    "        aug_feature = alpha*pos + (1-alpha)*neg\n",
    "        \n",
    "#         if random.random() > 0.5:\n",
    "        beta = random.random()\n",
    "        noise = generate_random_noise(mean, std)\n",
    "        orthogonal_noise = gram_schmit(noise, pos_mean-neg_mean)\n",
    "        if np.any(np.isnan(orthogonal_noise)):\n",
    "            aug_feature += (orthogonal_noise*beta)\n",
    "            \n",
    "        augmented_features.append(aug_feature)\n",
    "        aug_labels.append(alpha)\n",
    "        \n",
    "    x = pd.concat([positive_features, negative_features, \n",
    "        pd.DataFrame(augmented_features, columns=positive_features.columns)], axis=0)\n",
    "    y = np.concatenate([positive_labels, negative_labels, aug_labels])\n",
    "    return pca.transform(x), y\n",
    "\n",
    "neg_controls_features = pd.concat([mocks, ctrls], axis=0)\n",
    "pos_controls_features = pd.concat([active_sars, toxics], axis=0)\n",
    "\n",
    "train_x, train_y = get_dataset(\n",
    "    pca, pos_controls_features, neg_controls_features, augment_size=5000, mean=dist_mean, std=dist_std)\n",
    "test_x, test_y = get_dataset(\n",
    "    pca, active_sars.sample(), UV_inactive_sars)\n",
    "len(train_x), len(test_x)"
   ]
  },
  {
   "cell_type": "code",
   "execution_count": 25,
   "id": "107716c2",
   "metadata": {},
   "outputs": [],
   "source": [
    "traindataset = TensorDataset(\n",
    "        torch.tensor(train_x).float(),\n",
    "        torch.from_numpy(train_y).float()\n",
    "    )\n",
    "\n",
    "testdataset = TensorDataset(\n",
    "        torch.tensor(test_x).float(),\n",
    "        torch.from_numpy(test_y).float()\n",
    "    )"
   ]
  },
  {
   "cell_type": "code",
   "execution_count": 26,
   "id": "494696f6",
   "metadata": {},
   "outputs": [],
   "source": [
    "traindataset, valdataset = torch.utils.data.random_split(traindataset, [12326, 2000])"
   ]
  },
  {
   "cell_type": "code",
   "execution_count": 27,
   "id": "9e130629",
   "metadata": {},
   "outputs": [],
   "source": [
    "trainloader = torch.utils.data.DataLoader(traindataset, batch_size=64, shuffle=True, num_workers=1)\n",
    "testloader = torch.utils.data.DataLoader(testdataset, batch_size=1, shuffle=True, num_workers=1)\n",
    "valloader = torch.utils.data.DataLoader(valdataset, batch_size=1, shuffle=True, num_workers=1)"
   ]
  },
  {
   "cell_type": "markdown",
   "id": "ed37a76b",
   "metadata": {},
   "source": [
    "## Train and Test"
   ]
  },
  {
   "cell_type": "markdown",
   "id": "45bd860f",
   "metadata": {},
   "source": [
    "### MLP"
   ]
  },
  {
   "cell_type": "code",
   "execution_count": 28,
   "id": "0f5df7b4",
   "metadata": {},
   "outputs": [],
   "source": [
    "class MLP(nn.Module):\n",
    "    def __init__(self):\n",
    "        super().__init__()\n",
    "        self.layers = nn.Sequential(\n",
    "          nn.Flatten(),\n",
    "          nn.Linear(1024, 64),\n",
    "          nn.ReLU(),\n",
    "          nn.Linear(64, 32),\n",
    "          nn.ReLU(),\n",
    "          nn.Linear(32, 1), \n",
    "        )\n",
    "\n",
    "    def forward(self, x):\n",
    "        return self.layers(x)"
   ]
  },
  {
   "cell_type": "code",
   "execution_count": 29,
   "id": "ac00dc41",
   "metadata": {},
   "outputs": [],
   "source": [
    "def loss_function(output, alpha):\n",
    "    output = torch.sigmoid(output)\n",
    "    loss = nn.MSELoss()\n",
    "    w_loss = loss(output.reshape(-1), alpha.reshape(-1))\n",
    "    return w_loss"
   ]
  },
  {
   "cell_type": "code",
   "execution_count": 30,
   "id": "c65acd4a",
   "metadata": {},
   "outputs": [],
   "source": [
    "def cuda(tensor, uses_cuda):\n",
    "    return tensor.cuda() if uses_cuda else tensor"
   ]
  },
  {
   "cell_type": "code",
   "execution_count": 31,
   "id": "197f23b3",
   "metadata": {},
   "outputs": [],
   "source": [
    "use_cuda = torch.cuda.is_available()\n",
    "history = []\n",
    "torch.manual_seed(42)\n",
    "epochs = 200"
   ]
  },
  {
   "cell_type": "code",
   "execution_count": 32,
   "id": "ada1d70f",
   "metadata": {},
   "outputs": [],
   "source": [
    "mlp = cuda(MLP(), use_cuda)\n",
    "optimizer = torch.optim.SGD(mlp.parameters(), lr=1e-3)"
   ]
  },
  {
   "cell_type": "code",
   "execution_count": 33,
   "id": "c4843775",
   "metadata": {
    "scrolled": true
   },
   "outputs": [
    {
     "name": "stdout",
     "output_type": "stream",
     "text": [
      "epoch 0: train loss=0.189, validation loss=0.172\n",
      "epoch 1: train loss=0.163, validation loss=0.158\n",
      "epoch 2: train loss=0.153, validation loss=0.150\n",
      "epoch 3: train loss=0.147, validation loss=0.145\n",
      "epoch 4: train loss=0.141, validation loss=0.140\n",
      "epoch 5: train loss=0.137, validation loss=0.136\n",
      "epoch 6: train loss=0.134, validation loss=0.133\n",
      "epoch 7: train loss=0.131, validation loss=0.130\n",
      "epoch 8: train loss=0.127, validation loss=0.127\n",
      "epoch 9: train loss=0.125, validation loss=0.124\n",
      "epoch 10: train loss=0.122, validation loss=0.121\n",
      "epoch 11: train loss=0.119, validation loss=0.118\n",
      "epoch 12: train loss=0.115, validation loss=0.115\n",
      "epoch 13: train loss=0.112, validation loss=0.112\n",
      "epoch 14: train loss=0.110, validation loss=0.110\n",
      "epoch 15: train loss=0.107, validation loss=0.107\n",
      "epoch 16: train loss=0.104, validation loss=0.105\n",
      "epoch 17: train loss=0.101, validation loss=0.102\n",
      "epoch 18: train loss=0.099, validation loss=0.100\n",
      "epoch 19: train loss=0.096, validation loss=0.097\n",
      "epoch 20: train loss=0.094, validation loss=0.095\n",
      "epoch 21: train loss=0.091, validation loss=0.093\n",
      "epoch 22: train loss=0.091, validation loss=0.092\n",
      "epoch 23: train loss=0.090, validation loss=0.090\n",
      "epoch 24: train loss=0.088, validation loss=0.088\n",
      "epoch 25: train loss=0.086, validation loss=0.086\n",
      "epoch 26: train loss=0.084, validation loss=0.085\n",
      "epoch 27: train loss=0.083, validation loss=0.083\n",
      "epoch 28: train loss=0.081, validation loss=0.082\n",
      "epoch 29: train loss=0.079, validation loss=0.081\n",
      "epoch 30: train loss=0.078, validation loss=0.080\n",
      "epoch 31: train loss=0.077, validation loss=0.079\n",
      "epoch 32: train loss=0.076, validation loss=0.077\n",
      "epoch 33: train loss=0.074, validation loss=0.076\n",
      "epoch 34: train loss=0.073, validation loss=0.075\n",
      "epoch 35: train loss=0.073, validation loss=0.075\n",
      "epoch 36: train loss=0.072, validation loss=0.074\n",
      "epoch 37: train loss=0.071, validation loss=0.073\n",
      "epoch 38: train loss=0.070, validation loss=0.073\n",
      "epoch 39: train loss=0.069, validation loss=0.072\n",
      "epoch 40: train loss=0.069, validation loss=0.071\n",
      "epoch 41: train loss=0.068, validation loss=0.070\n",
      "epoch 42: train loss=0.067, validation loss=0.070\n",
      "epoch 43: train loss=0.067, validation loss=0.069\n",
      "epoch 44: train loss=0.066, validation loss=0.069\n",
      "epoch 45: train loss=0.066, validation loss=0.068\n",
      "epoch 46: train loss=0.065, validation loss=0.068\n",
      "epoch 47: train loss=0.064, validation loss=0.067\n",
      "epoch 48: train loss=0.064, validation loss=0.067\n",
      "epoch 49: train loss=0.064, validation loss=0.067\n",
      "epoch 50: train loss=0.063, validation loss=0.066\n",
      "epoch 51: train loss=0.063, validation loss=0.066\n",
      "epoch 52: train loss=0.062, validation loss=0.065\n",
      "epoch 53: train loss=0.062, validation loss=0.065\n",
      "epoch 54: train loss=0.062, validation loss=0.065\n",
      "epoch 55: train loss=0.061, validation loss=0.064\n",
      "epoch 56: train loss=0.061, validation loss=0.064\n",
      "epoch 57: train loss=0.061, validation loss=0.064\n",
      "epoch 58: train loss=0.060, validation loss=0.064\n",
      "epoch 59: train loss=0.060, validation loss=0.063\n",
      "epoch 60: train loss=0.060, validation loss=0.063\n",
      "epoch 61: train loss=0.059, validation loss=0.063\n",
      "epoch 62: train loss=0.059, validation loss=0.063\n",
      "epoch 63: train loss=0.060, validation loss=0.063\n",
      "epoch 64: train loss=0.059, validation loss=0.062\n",
      "epoch 65: train loss=0.059, validation loss=0.062\n",
      "epoch 66: train loss=0.059, validation loss=0.062\n",
      "epoch 67: train loss=0.059, validation loss=0.062\n",
      "epoch 68: train loss=0.058, validation loss=0.061\n",
      "epoch 69: train loss=0.058, validation loss=0.061\n",
      "epoch 70: train loss=0.058, validation loss=0.061\n",
      "epoch 71: train loss=0.057, validation loss=0.061\n",
      "epoch 72: train loss=0.057, validation loss=0.061\n",
      "epoch 73: train loss=0.057, validation loss=0.061\n",
      "epoch 74: train loss=0.057, validation loss=0.060\n",
      "epoch 75: train loss=0.056, validation loss=0.060\n",
      "epoch 76: train loss=0.056, validation loss=0.060\n",
      "epoch 77: train loss=0.056, validation loss=0.060\n",
      "epoch 78: train loss=0.056, validation loss=0.060\n",
      "epoch 79: train loss=0.056, validation loss=0.060\n",
      "epoch 80: train loss=0.055, validation loss=0.060\n",
      "epoch 81: train loss=0.055, validation loss=0.059\n",
      "epoch 82: train loss=0.055, validation loss=0.059\n",
      "epoch 83: train loss=0.055, validation loss=0.059\n",
      "epoch 84: train loss=0.054, validation loss=0.059\n",
      "epoch 85: train loss=0.054, validation loss=0.059\n",
      "epoch 86: train loss=0.054, validation loss=0.059\n",
      "epoch 87: train loss=0.054, validation loss=0.058\n",
      "epoch 88: train loss=0.054, validation loss=0.058\n",
      "epoch 89: train loss=0.053, validation loss=0.058\n",
      "epoch 90: train loss=0.053, validation loss=0.058\n",
      "epoch 91: train loss=0.053, validation loss=0.058\n",
      "epoch 92: train loss=0.053, validation loss=0.058\n",
      "epoch 93: train loss=0.053, validation loss=0.058\n",
      "epoch 94: train loss=0.052, validation loss=0.058\n",
      "epoch 95: train loss=0.052, validation loss=0.057\n",
      "epoch 96: train loss=0.052, validation loss=0.057\n",
      "epoch 97: train loss=0.052, validation loss=0.057\n",
      "epoch 98: train loss=0.052, validation loss=0.057\n",
      "epoch 99: train loss=0.052, validation loss=0.057\n",
      "epoch 100: train loss=0.051, validation loss=0.057\n",
      "epoch 101: train loss=0.051, validation loss=0.057\n",
      "epoch 102: train loss=0.051, validation loss=0.056\n",
      "epoch 103: train loss=0.051, validation loss=0.057\n",
      "epoch 104: train loss=0.051, validation loss=0.057\n",
      "epoch 105: train loss=0.051, validation loss=0.056\n",
      "epoch 106: train loss=0.050, validation loss=0.056\n",
      "epoch 107: train loss=0.050, validation loss=0.056\n",
      "epoch 108: train loss=0.050, validation loss=0.056\n",
      "epoch 109: train loss=0.050, validation loss=0.056\n",
      "epoch 110: train loss=0.050, validation loss=0.056\n",
      "epoch 111: train loss=0.050, validation loss=0.056\n",
      "epoch 112: train loss=0.050, validation loss=0.056\n",
      "epoch 113: train loss=0.049, validation loss=0.056\n",
      "epoch 114: train loss=0.050, validation loss=0.055\n",
      "epoch 115: train loss=0.049, validation loss=0.056\n",
      "epoch 116: train loss=0.050, validation loss=0.056\n",
      "epoch 117: train loss=0.050, validation loss=0.056\n",
      "epoch 118: train loss=0.050, validation loss=0.056\n",
      "epoch 119: train loss=0.050, validation loss=0.056\n",
      "epoch 120: train loss=0.049, validation loss=0.056\n",
      "epoch 121: train loss=0.049, validation loss=0.056\n",
      "epoch 122: train loss=0.049, validation loss=0.056\n",
      "epoch 123: train loss=0.049, validation loss=0.056\n",
      "epoch 124: train loss=0.049, validation loss=0.056\n",
      "epoch 125: train loss=0.049, validation loss=0.056\n",
      "epoch 126: train loss=0.049, validation loss=0.055\n",
      "epoch 127: train loss=0.048, validation loss=0.055\n",
      "epoch 128: train loss=0.048, validation loss=0.055\n",
      "epoch 129: train loss=0.048, validation loss=0.055\n",
      "epoch 130: train loss=0.048, validation loss=0.055\n",
      "epoch 131: train loss=0.048, validation loss=0.055\n",
      "epoch 132: train loss=0.048, validation loss=0.055\n",
      "epoch 133: train loss=0.047, validation loss=0.055\n",
      "epoch 134: train loss=0.047, validation loss=0.055\n",
      "epoch 135: train loss=0.047, validation loss=0.056\n",
      "epoch 136: train loss=0.047, validation loss=0.056\n",
      "epoch 137: train loss=0.047, validation loss=0.054\n",
      "epoch 138: train loss=0.047, validation loss=0.055\n",
      "epoch 139: train loss=0.047, validation loss=0.055\n",
      "epoch 140: train loss=0.047, validation loss=0.055\n",
      "epoch 141: train loss=0.046, validation loss=0.055\n",
      "epoch 142: train loss=0.046, validation loss=0.055\n",
      "epoch 143: train loss=0.046, validation loss=0.055\n",
      "epoch 144: train loss=0.046, validation loss=0.054\n",
      "epoch 145: train loss=0.045, validation loss=0.054\n",
      "epoch 146: train loss=0.046, validation loss=0.054\n",
      "epoch 147: train loss=0.046, validation loss=0.054\n",
      "epoch 148: train loss=0.046, validation loss=0.054\n",
      "epoch 149: train loss=0.045, validation loss=0.054\n",
      "epoch 150: train loss=0.045, validation loss=0.054\n",
      "epoch 151: train loss=0.045, validation loss=0.054\n",
      "epoch 152: train loss=0.045, validation loss=0.055\n",
      "epoch 153: train loss=0.046, validation loss=0.054\n",
      "epoch 154: train loss=0.045, validation loss=0.054\n",
      "epoch 155: train loss=0.045, validation loss=0.054\n",
      "epoch 156: train loss=0.045, validation loss=0.054\n",
      "epoch 157: train loss=0.045, validation loss=0.054\n",
      "epoch 158: train loss=0.045, validation loss=0.054\n",
      "epoch 159: train loss=0.045, validation loss=0.054\n",
      "epoch 160: train loss=0.044, validation loss=0.054\n",
      "epoch 161: train loss=0.044, validation loss=0.054\n",
      "epoch 162: train loss=0.044, validation loss=0.054\n"
     ]
    },
    {
     "name": "stdout",
     "output_type": "stream",
     "text": [
      "epoch 163: train loss=0.044, validation loss=0.054\n",
      "epoch 164: train loss=0.044, validation loss=0.054\n",
      "epoch 165: train loss=0.044, validation loss=0.054\n",
      "epoch 166: train loss=0.043, validation loss=0.054\n",
      "epoch 167: train loss=0.043, validation loss=0.054\n",
      "epoch 168: train loss=0.043, validation loss=0.054\n",
      "epoch 169: train loss=0.043, validation loss=0.054\n",
      "epoch 170: train loss=0.043, validation loss=0.054\n",
      "epoch 171: train loss=0.042, validation loss=0.053\n",
      "epoch 172: train loss=0.042, validation loss=0.052\n",
      "epoch 173: train loss=0.042, validation loss=0.052\n",
      "epoch 174: train loss=0.042, validation loss=0.053\n",
      "epoch 175: train loss=0.042, validation loss=0.052\n",
      "epoch 176: train loss=0.042, validation loss=0.052\n",
      "epoch 177: train loss=0.042, validation loss=0.052\n",
      "epoch 178: train loss=0.042, validation loss=0.052\n",
      "epoch 179: train loss=0.042, validation loss=0.052\n",
      "epoch 180: train loss=0.042, validation loss=0.052\n",
      "epoch 181: train loss=0.042, validation loss=0.052\n",
      "epoch 182: train loss=0.042, validation loss=0.052\n",
      "epoch 183: train loss=0.042, validation loss=0.052\n",
      "epoch 184: train loss=0.042, validation loss=0.052\n",
      "epoch 185: train loss=0.042, validation loss=0.052\n",
      "epoch 186: train loss=0.041, validation loss=0.052\n",
      "epoch 187: train loss=0.041, validation loss=0.052\n",
      "epoch 188: train loss=0.041, validation loss=0.051\n",
      "epoch 189: train loss=0.041, validation loss=0.052\n",
      "epoch 190: train loss=0.041, validation loss=0.052\n",
      "epoch 191: train loss=0.041, validation loss=0.052\n",
      "epoch 192: train loss=0.041, validation loss=0.052\n",
      "epoch 193: train loss=0.041, validation loss=0.051\n",
      "epoch 194: train loss=0.040, validation loss=0.052\n",
      "epoch 195: train loss=0.040, validation loss=0.051\n",
      "epoch 196: train loss=0.040, validation loss=0.051\n",
      "epoch 197: train loss=0.040, validation loss=0.051\n",
      "epoch 198: train loss=0.039, validation loss=0.052\n",
      "epoch 199: train loss=0.040, validation loss=0.052\n",
      "Training process has finished.\n"
     ]
    }
   ],
   "source": [
    "def evaluate(model, valloader, use_cuda):  \n",
    "    model.eval()\n",
    "    test_loss = 0\n",
    "    for _, data in enumerate(valloader, 0):\n",
    "        inputs, targets = data\n",
    "\n",
    "        inputs = Variable(cuda(inputs, use_cuda))\n",
    "        targets = Variable(cuda(targets, use_cuda))\n",
    "\n",
    "        outputs = mlp(inputs)\n",
    "        loss = loss_function(outputs, targets)\n",
    "        test_loss += loss\n",
    "    model.train()\n",
    "    return  test_loss/len(valloader)\n",
    "\n",
    "\n",
    "for epoch in range(0, epochs):\n",
    "    current_loss = 0.0\n",
    "    \n",
    "    for i, data in enumerate(trainloader, 0):\n",
    "        inputs, targets = data\n",
    "        \n",
    "        inputs = Variable(cuda(inputs, use_cuda))\n",
    "        targets = Variable(cuda(targets, use_cuda))\n",
    "\n",
    "        optimizer.zero_grad()\n",
    "        outputs = mlp(inputs)\n",
    "        \n",
    "        loss = loss_function(outputs, targets)\n",
    "        loss.backward()\n",
    "        \n",
    "        optimizer.step()\n",
    "      \n",
    "        current_loss += loss.item()\n",
    "        \n",
    "    \n",
    "    test_loss = evaluate(mlp, valloader, use_cuda)\n",
    "    current_loss /= len(trainloader)\n",
    "    print('epoch {}: train loss={:.3f}, validation loss={:.3f}'.format(\n",
    "            epoch, current_loss, test_loss))\n",
    "    history.append({'train loss': current_loss, 'val loss': test_loss})\n",
    "    mlp.train()\n",
    "\n",
    "print('Training process has finished.')"
   ]
  },
  {
   "cell_type": "code",
   "execution_count": 34,
   "id": "12b9b41b",
   "metadata": {
    "scrolled": true
   },
   "outputs": [
    {
     "data": {
      "text/plain": [
       "<matplotlib.legend.Legend at 0x7f850520a7f0>"
      ]
     },
     "execution_count": 34,
     "metadata": {},
     "output_type": "execute_result"
    },
    {
     "data": {
      "image/png": "[encoded data removed]",
      "text/plain": [
       "<Figure size 504x288 with 1 Axes>"
      ]
     },
     "metadata": {},
     "output_type": "display_data"
    }
   ],
   "source": [
    "train_losses = [x['train loss'] for x in history]\n",
    "val_losses = [x['val loss'] for x in history]\n",
    "sns.set(rc={'figure.figsize':(7,4)})\n",
    "plt.plot(train_losses, label='training')\n",
    "plt.plot(val_losses, label='validation')\n",
    "plt.xlabel(\"epochs\", fontweight='bold')\n",
    "plt.ylabel(\"MSE\", fontweight='bold')\n",
    "plt.legend()"
   ]
  },
  {
   "cell_type": "code",
   "execution_count": 35,
   "id": "c4d823f3",
   "metadata": {
    "scrolled": false
   },
   "outputs": [
    {
     "data": {
      "text/plain": [
       "tensor(0.0411, device='cuda:0', grad_fn=<DivBackward0>)"
      ]
     },
     "execution_count": 35,
     "metadata": {},
     "output_type": "execute_result"
    }
   ],
   "source": [
    "evaluate(mlp, testloader, use_cuda)"
   ]
  },
  {
   "cell_type": "markdown",
   "id": "ccd0ad62",
   "metadata": {},
   "source": [
    "## Disease Score"
   ]
  },
  {
   "cell_type": "code",
   "execution_count": 38,
   "id": "62e41f43",
   "metadata": {},
   "outputs": [],
   "source": [
    "def normalize_pandas_column(column):\n",
    "    return (column - column.mean())/(column.max() - column.min())"
   ]
  },
  {
   "cell_type": "code",
   "execution_count": 39,
   "id": "b08bdfe4",
   "metadata": {},
   "outputs": [],
   "source": [
    "disease_scores = pd.DataFrame()"
   ]
  },
  {
   "cell_type": "code",
   "execution_count": 40,
   "id": "cbf4332a",
   "metadata": {},
   "outputs": [],
   "source": [
    "disease_scores['disease_score'] = tvn_features.apply(\n",
    "    lambda row:\n",
    "        mlp(Variable(cuda(torch.tensor([row]), use_cuda)).float()).item(), axis=1)\n",
    "disease_scores['disease_sigmoid_score'] = tvn_features.apply(\n",
    "    lambda row: torch.sigmoid(\n",
    "        mlp(Variable(cuda(torch.tensor([row]), use_cuda)).float())).item(), axis=1)"
   ]
  },
  {
   "cell_type": "code",
   "execution_count": 41,
   "id": "58de8c91",
   "metadata": {},
   "outputs": [],
   "source": [
    "disease_scores.to_csv('scores/disease_score.csv')"
   ]
  },
  {
   "cell_type": "code",
   "execution_count": null,
   "id": "9c5c3e49",
   "metadata": {},
   "outputs": [],
   "source": []
  }
 ],
 "metadata": {
  "kernelspec": {
   "display_name": "Python 3 (ipykernel)",
   "language": "python",
   "name": "python3"
  },
  "language_info": {
   "codemirror_mode": {
    "name": "ipython",
    "version": 3
   },
   "file_extension": ".py",
   "mimetype": "text/x-python",
   "name": "python",
   "nbconvert_exporter": "python",
   "pygments_lexer": "ipython3",
   "version": "3.8.5"
  }
 },
 "nbformat": 4,
 "nbformat_minor": 5
}
